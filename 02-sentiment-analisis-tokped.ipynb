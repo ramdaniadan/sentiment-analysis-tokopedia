{
 "cells": [
  {
   "cell_type": "markdown",
   "id": "0f67ea78",
   "metadata": {},
   "source": [
    "# **LOAD DATA**"
   ]
  },
  {
   "cell_type": "code",
   "execution_count": 1,
   "id": "3d35fb8f",
   "metadata": {},
   "outputs": [
    {
     "name": "stdout",
     "output_type": "stream",
     "text": [
      "(4490, 3)\n"
     ]
    }
   ],
   "source": [
    "# load dataset kedalam dataframe\n",
    "\n",
    "import pandas as pd\n",
    "import numpy as np\n",
    "\n",
    "df = pd.read_csv('E:\\\\[ DOCUMENTS ]\\\\GUNADARMA\\\\PENULISAN ILMIAH\\\\Project\\\\Jupyter-project\\\\Datasets\\\\reviews-tokopedia-juni.csv')\n",
    "print(df.shape)"
   ]
  },
  {
   "cell_type": "code",
   "execution_count": 2,
   "id": "f06c1552",
   "metadata": {},
   "outputs": [
    {
     "data": {
      "text/html": [
       "<div>\n",
       "<style scoped>\n",
       "    .dataframe tbody tr th:only-of-type {\n",
       "        vertical-align: middle;\n",
       "    }\n",
       "\n",
       "    .dataframe tbody tr th {\n",
       "        vertical-align: top;\n",
       "    }\n",
       "\n",
       "    .dataframe thead th {\n",
       "        text-align: right;\n",
       "    }\n",
       "</style>\n",
       "<table border=\"1\" class=\"dataframe\">\n",
       "  <thead>\n",
       "    <tr style=\"text-align: right;\">\n",
       "      <th></th>\n",
       "      <th>nama</th>\n",
       "      <th>ulasan</th>\n",
       "      <th>penilaian</th>\n",
       "    </tr>\n",
       "  </thead>\n",
       "  <tbody>\n",
       "    <tr>\n",
       "      <th>0</th>\n",
       "      <td>Ardison Samsung</td>\n",
       "      <td>Bagi saya Tokopedia merupakan Online Shop yang...</td>\n",
       "      <td>5</td>\n",
       "    </tr>\n",
       "    <tr>\n",
       "      <th>1</th>\n",
       "      <td>samsudin elfani</td>\n",
       "      <td>Belanja paling aman ?? Tokopedia tentunya, Tok...</td>\n",
       "      <td>5</td>\n",
       "    </tr>\n",
       "    <tr>\n",
       "      <th>2</th>\n",
       "      <td>Dhika Rahmawati</td>\n",
       "      <td>Pernah bikin akun tapi g pernah transaksi, Pas...</td>\n",
       "      <td>1</td>\n",
       "    </tr>\n",
       "    <tr>\n",
       "      <th>3</th>\n",
       "      <td>Reza Fisabilillah</td>\n",
       "      <td>Kemaren banyak gambar yg gk bisa kebuka pas di...</td>\n",
       "      <td>3</td>\n",
       "    </tr>\n",
       "    <tr>\n",
       "      <th>4</th>\n",
       "      <td>Haviza Yeni official</td>\n",
       "      <td>Saya mau tanya kenapa ditoko y g mau saya beli...</td>\n",
       "      <td>2</td>\n",
       "    </tr>\n",
       "  </tbody>\n",
       "</table>\n",
       "</div>"
      ],
      "text/plain": [
       "                   nama                                             ulasan  \\\n",
       "0       Ardison Samsung  Bagi saya Tokopedia merupakan Online Shop yang...   \n",
       "1       samsudin elfani  Belanja paling aman ?? Tokopedia tentunya, Tok...   \n",
       "2       Dhika Rahmawati  Pernah bikin akun tapi g pernah transaksi, Pas...   \n",
       "3     Reza Fisabilillah  Kemaren banyak gambar yg gk bisa kebuka pas di...   \n",
       "4  Haviza Yeni official  Saya mau tanya kenapa ditoko y g mau saya beli...   \n",
       "\n",
       "   penilaian  \n",
       "0          5  \n",
       "1          5  \n",
       "2          1  \n",
       "3          3  \n",
       "4          2  "
      ]
     },
     "execution_count": 2,
     "metadata": {},
     "output_type": "execute_result"
    }
   ],
   "source": [
    "# melihat data\n",
    "\n",
    "df.head()"
   ]
  },
  {
   "cell_type": "code",
   "execution_count": 3,
   "id": "e6843bc2",
   "metadata": {},
   "outputs": [
    {
     "data": {
      "text/plain": [
       "5    2251\n",
       "1    1331\n",
       "4     345\n",
       "3     302\n",
       "2     261\n",
       "Name: penilaian, dtype: int64"
      ]
     },
     "execution_count": 3,
     "metadata": {},
     "output_type": "execute_result"
    }
   ],
   "source": [
    "# melihat banyak ulasan dari tiap penilaian\n",
    "\n",
    "df['penilaian'].value_counts()"
   ]
  },
  {
   "cell_type": "code",
   "execution_count": 4,
   "id": "85f41c1d",
   "metadata": {},
   "outputs": [
    {
     "data": {
      "image/png": "[encoded data removed]",
      "text/plain": [
       "<Figure size 504x432 with 1 Axes>"
      ]
     },
     "metadata": {
      "needs_background": "light"
     },
     "output_type": "display_data"
    }
   ],
   "source": [
    "# melihat distribusi banyak ulasan berdasarkan penilaian\n",
    "\n",
    "import matplotlib.pyplot as plt\n",
    "\n",
    "_, ax1 = plt.subplots(figsize=(7,6))\n",
    "stars_histogram = df['penilaian'].value_counts().sort_index()\n",
    "stars_histogram.plot(kind='bar', width=0.7, color='darkcyan')\n",
    "plt.xlabel('penilaian')\n",
    "plt.ylabel('jumlah ulasan')\n",
    "\n",
    "plt.tight_layout()\n",
    "plt.show()"
   ]
  },
  {
   "cell_type": "markdown",
   "id": "62079f5e",
   "metadata": {},
   "source": [
    "# **PREPROCESSING**"
   ]
  },
  {
   "cell_type": "markdown",
   "id": "87a17e9f",
   "metadata": {},
   "source": [
    "**Remove Empty Data Line**\n",
    "\n",
    "menghapus baris data yang kosong"
   ]
  },
  {
   "cell_type": "code",
   "execution_count": 5,
   "id": "e21f3e7c",
   "metadata": {},
   "outputs": [
    {
     "name": "stdout",
     "output_type": "stream",
     "text": [
      "(4490, 3)\n"
     ]
    }
   ],
   "source": [
    "df = df.dropna()\n",
    "print(df.shape)"
   ]
  },
  {
   "cell_type": "markdown",
   "id": "0ab7f9ae",
   "metadata": {},
   "source": [
    "**Case Folding**\n",
    "\n",
    "mengubah semua huruf menjadi huruf kecil"
   ]
  },
  {
   "cell_type": "code",
   "execution_count": 6,
   "id": "2de897c5",
   "metadata": {},
   "outputs": [
    {
     "data": {
      "text/html": [
       "<div>\n",
       "<style scoped>\n",
       "    .dataframe tbody tr th:only-of-type {\n",
       "        vertical-align: middle;\n",
       "    }\n",
       "\n",
       "    .dataframe tbody tr th {\n",
       "        vertical-align: top;\n",
       "    }\n",
       "\n",
       "    .dataframe thead th {\n",
       "        text-align: right;\n",
       "    }\n",
       "</style>\n",
       "<table border=\"1\" class=\"dataframe\">\n",
       "  <thead>\n",
       "    <tr style=\"text-align: right;\">\n",
       "      <th></th>\n",
       "      <th>nama</th>\n",
       "      <th>ulasan</th>\n",
       "      <th>penilaian</th>\n",
       "    </tr>\n",
       "  </thead>\n",
       "  <tbody>\n",
       "    <tr>\n",
       "      <th>0</th>\n",
       "      <td>Ardison Samsung</td>\n",
       "      <td>bagi saya tokopedia merupakan online shop yang...</td>\n",
       "      <td>5</td>\n",
       "    </tr>\n",
       "    <tr>\n",
       "      <th>1</th>\n",
       "      <td>samsudin elfani</td>\n",
       "      <td>belanja paling aman ?? tokopedia tentunya, tok...</td>\n",
       "      <td>5</td>\n",
       "    </tr>\n",
       "    <tr>\n",
       "      <th>2</th>\n",
       "      <td>Dhika Rahmawati</td>\n",
       "      <td>pernah bikin akun tapi g pernah transaksi, pas...</td>\n",
       "      <td>1</td>\n",
       "    </tr>\n",
       "    <tr>\n",
       "      <th>3</th>\n",
       "      <td>Reza Fisabilillah</td>\n",
       "      <td>kemaren banyak gambar yg gk bisa kebuka pas di...</td>\n",
       "      <td>3</td>\n",
       "    </tr>\n",
       "    <tr>\n",
       "      <th>4</th>\n",
       "      <td>Haviza Yeni official</td>\n",
       "      <td>saya mau tanya kenapa ditoko y g mau saya beli...</td>\n",
       "      <td>2</td>\n",
       "    </tr>\n",
       "  </tbody>\n",
       "</table>\n",
       "</div>"
      ],
      "text/plain": [
       "                   nama                                             ulasan  \\\n",
       "0       Ardison Samsung  bagi saya tokopedia merupakan online shop yang...   \n",
       "1       samsudin elfani  belanja paling aman ?? tokopedia tentunya, tok...   \n",
       "2       Dhika Rahmawati  pernah bikin akun tapi g pernah transaksi, pas...   \n",
       "3     Reza Fisabilillah  kemaren banyak gambar yg gk bisa kebuka pas di...   \n",
       "4  Haviza Yeni official  saya mau tanya kenapa ditoko y g mau saya beli...   \n",
       "\n",
       "   penilaian  \n",
       "0          5  \n",
       "1          5  \n",
       "2          1  \n",
       "3          3  \n",
       "4          2  "
      ]
     },
     "execution_count": 6,
     "metadata": {},
     "output_type": "execute_result"
    }
   ],
   "source": [
    "df['ulasan'] = df['ulasan'].str.lower()\n",
    "df.head()"
   ]
  },
  {
   "cell_type": "code",
   "execution_count": 7,
   "id": "949712ec",
   "metadata": {},
   "outputs": [],
   "source": [
    "df.to_csv('hasil case folding.csv')"
   ]
  },
  {
   "cell_type": "markdown",
   "id": "e42ed8e6",
   "metadata": {},
   "source": [
    "**Cleansing**\n",
    "\n",
    "pembersihan teks dari tab, new line, back slice, mention, link, hastag dan URL"
   ]
  },
  {
   "cell_type": "code",
   "execution_count": 8,
   "id": "486e09ac",
   "metadata": {},
   "outputs": [
    {
     "data": {
      "text/html": [
       "<div>\n",
       "<style scoped>\n",
       "    .dataframe tbody tr th:only-of-type {\n",
       "        vertical-align: middle;\n",
       "    }\n",
       "\n",
       "    .dataframe tbody tr th {\n",
       "        vertical-align: top;\n",
       "    }\n",
       "\n",
       "    .dataframe thead th {\n",
       "        text-align: right;\n",
       "    }\n",
       "</style>\n",
       "<table border=\"1\" class=\"dataframe\">\n",
       "  <thead>\n",
       "    <tr style=\"text-align: right;\">\n",
       "      <th></th>\n",
       "      <th>nama</th>\n",
       "      <th>ulasan</th>\n",
       "      <th>penilaian</th>\n",
       "    </tr>\n",
       "  </thead>\n",
       "  <tbody>\n",
       "    <tr>\n",
       "      <th>0</th>\n",
       "      <td>Ardison Samsung</td>\n",
       "      <td>bagi saya tokopedia merupakan online shop yang...</td>\n",
       "      <td>5</td>\n",
       "    </tr>\n",
       "    <tr>\n",
       "      <th>1</th>\n",
       "      <td>samsudin elfani</td>\n",
       "      <td>belanja paling aman ?? tokopedia tentunya, tok...</td>\n",
       "      <td>5</td>\n",
       "    </tr>\n",
       "    <tr>\n",
       "      <th>2</th>\n",
       "      <td>Dhika Rahmawati</td>\n",
       "      <td>pernah bikin akun tapi g pernah transaksi, pas...</td>\n",
       "      <td>1</td>\n",
       "    </tr>\n",
       "    <tr>\n",
       "      <th>3</th>\n",
       "      <td>Reza Fisabilillah</td>\n",
       "      <td>kemaren banyak gambar yg gk bisa kebuka pas di...</td>\n",
       "      <td>3</td>\n",
       "    </tr>\n",
       "    <tr>\n",
       "      <th>4</th>\n",
       "      <td>Haviza Yeni official</td>\n",
       "      <td>saya mau tanya kenapa ditoko y g mau saya beli...</td>\n",
       "      <td>2</td>\n",
       "    </tr>\n",
       "  </tbody>\n",
       "</table>\n",
       "</div>"
      ],
      "text/plain": [
       "                   nama                                             ulasan  \\\n",
       "0       Ardison Samsung  bagi saya tokopedia merupakan online shop yang...   \n",
       "1       samsudin elfani  belanja paling aman ?? tokopedia tentunya, tok...   \n",
       "2       Dhika Rahmawati  pernah bikin akun tapi g pernah transaksi, pas...   \n",
       "3     Reza Fisabilillah  kemaren banyak gambar yg gk bisa kebuka pas di...   \n",
       "4  Haviza Yeni official  saya mau tanya kenapa ditoko y g mau saya beli...   \n",
       "\n",
       "   penilaian  \n",
       "0          5  \n",
       "1          5  \n",
       "2          1  \n",
       "3          3  \n",
       "4          2  "
      ]
     },
     "execution_count": 8,
     "metadata": {},
     "output_type": "execute_result"
    }
   ],
   "source": [
    "import string\n",
    "import re # regex library\n",
    "\n",
    "def remove_ulasan_special(text):\n",
    "  # menghapus tab, new line, dan back slice\n",
    "  text = text.replace('\\\\t', \" \").replace('\\\\n', \" \").replace('\\\\', \"\")\n",
    "\n",
    "  # menghapus non ASCII (emoticon, chinese word, dll)\n",
    "  text = text.encode('ascii', 'replace').decode('ascii')\n",
    "\n",
    "  # menghapus mention, link, hastag\n",
    "  text = ' '.join(re.sub(\"([@#][A-Za-z0-9]+)|(\\w+:\\/\\/\\S+)\", \" \", text).split())\n",
    "\n",
    "  # menghapus incomplete URL\n",
    "  return text.replace(\"http://\", \" \").replace(\"https://\", \" \")\n",
    "\n",
    "df['ulasan'] = df['ulasan'].apply(remove_ulasan_special)\n",
    "df.head()"
   ]
  },
  {
   "cell_type": "code",
   "execution_count": 9,
   "id": "ef76be29",
   "metadata": {},
   "outputs": [],
   "source": [
    "df.to_csv('hasil cleansing.csv')"
   ]
  },
  {
   "cell_type": "markdown",
   "id": "029c0f8b",
   "metadata": {},
   "source": [
    "**Remove Number**\n",
    "\n",
    "menghapus angka"
   ]
  },
  {
   "cell_type": "code",
   "execution_count": 10,
   "id": "27e13352",
   "metadata": {},
   "outputs": [
    {
     "data": {
      "text/html": [
       "<div>\n",
       "<style scoped>\n",
       "    .dataframe tbody tr th:only-of-type {\n",
       "        vertical-align: middle;\n",
       "    }\n",
       "\n",
       "    .dataframe tbody tr th {\n",
       "        vertical-align: top;\n",
       "    }\n",
       "\n",
       "    .dataframe thead th {\n",
       "        text-align: right;\n",
       "    }\n",
       "</style>\n",
       "<table border=\"1\" class=\"dataframe\">\n",
       "  <thead>\n",
       "    <tr style=\"text-align: right;\">\n",
       "      <th></th>\n",
       "      <th>nama</th>\n",
       "      <th>ulasan</th>\n",
       "      <th>penilaian</th>\n",
       "    </tr>\n",
       "  </thead>\n",
       "  <tbody>\n",
       "    <tr>\n",
       "      <th>0</th>\n",
       "      <td>Ardison Samsung</td>\n",
       "      <td>bagi saya tokopedia merupakan online shop yang...</td>\n",
       "      <td>5</td>\n",
       "    </tr>\n",
       "    <tr>\n",
       "      <th>1</th>\n",
       "      <td>samsudin elfani</td>\n",
       "      <td>belanja paling aman ?? tokopedia tentunya, tok...</td>\n",
       "      <td>5</td>\n",
       "    </tr>\n",
       "    <tr>\n",
       "      <th>2</th>\n",
       "      <td>Dhika Rahmawati</td>\n",
       "      <td>pernah bikin akun tapi g pernah transaksi, pas...</td>\n",
       "      <td>1</td>\n",
       "    </tr>\n",
       "    <tr>\n",
       "      <th>3</th>\n",
       "      <td>Reza Fisabilillah</td>\n",
       "      <td>kemaren banyak gambar yg gk bisa kebuka pas di...</td>\n",
       "      <td>3</td>\n",
       "    </tr>\n",
       "    <tr>\n",
       "      <th>4</th>\n",
       "      <td>Haviza Yeni official</td>\n",
       "      <td>saya mau tanya kenapa ditoko y g mau saya beli...</td>\n",
       "      <td>2</td>\n",
       "    </tr>\n",
       "  </tbody>\n",
       "</table>\n",
       "</div>"
      ],
      "text/plain": [
       "                   nama                                             ulasan  \\\n",
       "0       Ardison Samsung  bagi saya tokopedia merupakan online shop yang...   \n",
       "1       samsudin elfani  belanja paling aman ?? tokopedia tentunya, tok...   \n",
       "2       Dhika Rahmawati  pernah bikin akun tapi g pernah transaksi, pas...   \n",
       "3     Reza Fisabilillah  kemaren banyak gambar yg gk bisa kebuka pas di...   \n",
       "4  Haviza Yeni official  saya mau tanya kenapa ditoko y g mau saya beli...   \n",
       "\n",
       "   penilaian  \n",
       "0          5  \n",
       "1          5  \n",
       "2          1  \n",
       "3          3  \n",
       "4          2  "
      ]
     },
     "execution_count": 10,
     "metadata": {},
     "output_type": "execute_result"
    }
   ],
   "source": [
    "def remove_number(text):\n",
    "  return re.sub(r\"\\d+\", \"\", text)\n",
    "\n",
    "df['ulasan'] = df['ulasan'].apply(remove_number)\n",
    "df.head()"
   ]
  },
  {
   "cell_type": "code",
   "execution_count": 11,
   "id": "66b6b4da",
   "metadata": {},
   "outputs": [],
   "source": [
    "df.to_csv('hasil remove number.csv')"
   ]
  },
  {
   "cell_type": "markdown",
   "id": "47efc5bb",
   "metadata": {},
   "source": [
    "**Remove Punctuation**\n",
    "\n",
    "menghapus tanda baca"
   ]
  },
  {
   "cell_type": "code",
   "execution_count": 12,
   "id": "8609a7ec",
   "metadata": {},
   "outputs": [
    {
     "data": {
      "text/html": [
       "<div>\n",
       "<style scoped>\n",
       "    .dataframe tbody tr th:only-of-type {\n",
       "        vertical-align: middle;\n",
       "    }\n",
       "\n",
       "    .dataframe tbody tr th {\n",
       "        vertical-align: top;\n",
       "    }\n",
       "\n",
       "    .dataframe thead th {\n",
       "        text-align: right;\n",
       "    }\n",
       "</style>\n",
       "<table border=\"1\" class=\"dataframe\">\n",
       "  <thead>\n",
       "    <tr style=\"text-align: right;\">\n",
       "      <th></th>\n",
       "      <th>nama</th>\n",
       "      <th>ulasan</th>\n",
       "      <th>penilaian</th>\n",
       "    </tr>\n",
       "  </thead>\n",
       "  <tbody>\n",
       "    <tr>\n",
       "      <th>0</th>\n",
       "      <td>Ardison Samsung</td>\n",
       "      <td>bagi saya tokopedia merupakan online shop yang...</td>\n",
       "      <td>5</td>\n",
       "    </tr>\n",
       "    <tr>\n",
       "      <th>1</th>\n",
       "      <td>samsudin elfani</td>\n",
       "      <td>belanja paling aman  tokopedia tentunya tokope...</td>\n",
       "      <td>5</td>\n",
       "    </tr>\n",
       "    <tr>\n",
       "      <th>2</th>\n",
       "      <td>Dhika Rahmawati</td>\n",
       "      <td>pernah bikin akun tapi g pernah transaksi pas ...</td>\n",
       "      <td>1</td>\n",
       "    </tr>\n",
       "    <tr>\n",
       "      <th>3</th>\n",
       "      <td>Reza Fisabilillah</td>\n",
       "      <td>kemaren banyak gambar yg gk bisa kebuka pas di...</td>\n",
       "      <td>3</td>\n",
       "    </tr>\n",
       "    <tr>\n",
       "      <th>4</th>\n",
       "      <td>Haviza Yeni official</td>\n",
       "      <td>saya mau tanya kenapa ditoko y g mau saya beli...</td>\n",
       "      <td>2</td>\n",
       "    </tr>\n",
       "  </tbody>\n",
       "</table>\n",
       "</div>"
      ],
      "text/plain": [
       "                   nama                                             ulasan  \\\n",
       "0       Ardison Samsung  bagi saya tokopedia merupakan online shop yang...   \n",
       "1       samsudin elfani  belanja paling aman  tokopedia tentunya tokope...   \n",
       "2       Dhika Rahmawati  pernah bikin akun tapi g pernah transaksi pas ...   \n",
       "3     Reza Fisabilillah  kemaren banyak gambar yg gk bisa kebuka pas di...   \n",
       "4  Haviza Yeni official  saya mau tanya kenapa ditoko y g mau saya beli...   \n",
       "\n",
       "   penilaian  \n",
       "0          5  \n",
       "1          5  \n",
       "2          1  \n",
       "3          3  \n",
       "4          2  "
      ]
     },
     "execution_count": 12,
     "metadata": {},
     "output_type": "execute_result"
    }
   ],
   "source": [
    "def remove_punctuation(text):\n",
    "  return text.translate(str.maketrans(\"\", \"\", string.punctuation))\n",
    "\n",
    "df['ulasan'] = df['ulasan'].apply(remove_punctuation)\n",
    "df.head()"
   ]
  },
  {
   "cell_type": "code",
   "execution_count": 13,
   "id": "489d2d00",
   "metadata": {},
   "outputs": [],
   "source": [
    "df.to_csv('hasil remove punctuation.csv')"
   ]
  },
  {
   "cell_type": "markdown",
   "id": "bb99b5ed",
   "metadata": {},
   "source": [
    "**Remove Single Char**\n",
    "\n",
    "menghapus huruf tunggal (tidak berbentuk kata)"
   ]
  },
  {
   "cell_type": "code",
   "execution_count": 14,
   "id": "ab0aab09",
   "metadata": {},
   "outputs": [
    {
     "data": {
      "text/html": [
       "<div>\n",
       "<style scoped>\n",
       "    .dataframe tbody tr th:only-of-type {\n",
       "        vertical-align: middle;\n",
       "    }\n",
       "\n",
       "    .dataframe tbody tr th {\n",
       "        vertical-align: top;\n",
       "    }\n",
       "\n",
       "    .dataframe thead th {\n",
       "        text-align: right;\n",
       "    }\n",
       "</style>\n",
       "<table border=\"1\" class=\"dataframe\">\n",
       "  <thead>\n",
       "    <tr style=\"text-align: right;\">\n",
       "      <th></th>\n",
       "      <th>nama</th>\n",
       "      <th>ulasan</th>\n",
       "      <th>penilaian</th>\n",
       "    </tr>\n",
       "  </thead>\n",
       "  <tbody>\n",
       "    <tr>\n",
       "      <th>0</th>\n",
       "      <td>Ardison Samsung</td>\n",
       "      <td>bagi saya tokopedia merupakan online shop yang...</td>\n",
       "      <td>5</td>\n",
       "    </tr>\n",
       "    <tr>\n",
       "      <th>1</th>\n",
       "      <td>samsudin elfani</td>\n",
       "      <td>belanja paling aman  tokopedia tentunya tokope...</td>\n",
       "      <td>5</td>\n",
       "    </tr>\n",
       "    <tr>\n",
       "      <th>2</th>\n",
       "      <td>Dhika Rahmawati</td>\n",
       "      <td>pernah bikin akun tapi  pernah transaksi pas r...</td>\n",
       "      <td>1</td>\n",
       "    </tr>\n",
       "    <tr>\n",
       "      <th>3</th>\n",
       "      <td>Reza Fisabilillah</td>\n",
       "      <td>kemaren banyak gambar yg gk bisa kebuka pas di...</td>\n",
       "      <td>3</td>\n",
       "    </tr>\n",
       "    <tr>\n",
       "      <th>4</th>\n",
       "      <td>Haviza Yeni official</td>\n",
       "      <td>saya mau tanya kenapa ditoko   mau saya beli b...</td>\n",
       "      <td>2</td>\n",
       "    </tr>\n",
       "  </tbody>\n",
       "</table>\n",
       "</div>"
      ],
      "text/plain": [
       "                   nama                                             ulasan  \\\n",
       "0       Ardison Samsung  bagi saya tokopedia merupakan online shop yang...   \n",
       "1       samsudin elfani  belanja paling aman  tokopedia tentunya tokope...   \n",
       "2       Dhika Rahmawati  pernah bikin akun tapi  pernah transaksi pas r...   \n",
       "3     Reza Fisabilillah  kemaren banyak gambar yg gk bisa kebuka pas di...   \n",
       "4  Haviza Yeni official  saya mau tanya kenapa ditoko   mau saya beli b...   \n",
       "\n",
       "   penilaian  \n",
       "0          5  \n",
       "1          5  \n",
       "2          1  \n",
       "3          3  \n",
       "4          2  "
      ]
     },
     "execution_count": 14,
     "metadata": {},
     "output_type": "execute_result"
    }
   ],
   "source": [
    "def remove_single_char(text):\n",
    "  return re.sub(r\"\\b[a-zA-Z]\\b\", \"\", text)\n",
    "\n",
    "df['ulasan'] = df['ulasan'].apply(remove_single_char)\n",
    "df.head()"
   ]
  },
  {
   "cell_type": "code",
   "execution_count": 15,
   "id": "20f5fc6d",
   "metadata": {},
   "outputs": [],
   "source": [
    "df.to_csv('hasil remove single char.csv')"
   ]
  },
  {
   "cell_type": "markdown",
   "id": "9af841c9",
   "metadata": {},
   "source": [
    "**Tokenizing**\n",
    "\n",
    "pemisahan teks menjadi potongan-potongan kata yang disebut sebagai token"
   ]
  },
  {
   "cell_type": "code",
   "execution_count": 16,
   "id": "7c03692b",
   "metadata": {},
   "outputs": [
    {
     "name": "stderr",
     "output_type": "stream",
     "text": [
      "[nltk_data] Downloading package punkt to C:\\Users\\Ramdani\n",
      "[nltk_data]     Adan\\AppData\\Roaming\\nltk_data...\n",
      "[nltk_data]   Unzipping tokenizers\\punkt.zip.\n"
     ]
    },
    {
     "data": {
      "text/html": [
       "<div>\n",
       "<style scoped>\n",
       "    .dataframe tbody tr th:only-of-type {\n",
       "        vertical-align: middle;\n",
       "    }\n",
       "\n",
       "    .dataframe tbody tr th {\n",
       "        vertical-align: top;\n",
       "    }\n",
       "\n",
       "    .dataframe thead th {\n",
       "        text-align: right;\n",
       "    }\n",
       "</style>\n",
       "<table border=\"1\" class=\"dataframe\">\n",
       "  <thead>\n",
       "    <tr style=\"text-align: right;\">\n",
       "      <th></th>\n",
       "      <th>nama</th>\n",
       "      <th>ulasan</th>\n",
       "      <th>penilaian</th>\n",
       "    </tr>\n",
       "  </thead>\n",
       "  <tbody>\n",
       "    <tr>\n",
       "      <th>0</th>\n",
       "      <td>Ardison Samsung</td>\n",
       "      <td>[bagi, saya, tokopedia, merupakan, online, sho...</td>\n",
       "      <td>5</td>\n",
       "    </tr>\n",
       "    <tr>\n",
       "      <th>1</th>\n",
       "      <td>samsudin elfani</td>\n",
       "      <td>[belanja, paling, aman, tokopedia, tentunya, t...</td>\n",
       "      <td>5</td>\n",
       "    </tr>\n",
       "    <tr>\n",
       "      <th>2</th>\n",
       "      <td>Dhika Rahmawati</td>\n",
       "      <td>[pernah, bikin, akun, tapi, pernah, transaksi,...</td>\n",
       "      <td>1</td>\n",
       "    </tr>\n",
       "    <tr>\n",
       "      <th>3</th>\n",
       "      <td>Reza Fisabilillah</td>\n",
       "      <td>[kemaren, banyak, gambar, yg, gk, bisa, kebuka...</td>\n",
       "      <td>3</td>\n",
       "    </tr>\n",
       "    <tr>\n",
       "      <th>4</th>\n",
       "      <td>Haviza Yeni official</td>\n",
       "      <td>[saya, mau, tanya, kenapa, ditoko, mau, saya, ...</td>\n",
       "      <td>2</td>\n",
       "    </tr>\n",
       "  </tbody>\n",
       "</table>\n",
       "</div>"
      ],
      "text/plain": [
       "                   nama                                             ulasan  \\\n",
       "0       Ardison Samsung  [bagi, saya, tokopedia, merupakan, online, sho...   \n",
       "1       samsudin elfani  [belanja, paling, aman, tokopedia, tentunya, t...   \n",
       "2       Dhika Rahmawati  [pernah, bikin, akun, tapi, pernah, transaksi,...   \n",
       "3     Reza Fisabilillah  [kemaren, banyak, gambar, yg, gk, bisa, kebuka...   \n",
       "4  Haviza Yeni official  [saya, mau, tanya, kenapa, ditoko, mau, saya, ...   \n",
       "\n",
       "   penilaian  \n",
       "0          5  \n",
       "1          5  \n",
       "2          1  \n",
       "3          3  \n",
       "4          2  "
      ]
     },
     "execution_count": 16,
     "metadata": {},
     "output_type": "execute_result"
    }
   ],
   "source": [
    "import nltk\n",
    "nltk.download('punkt')\n",
    "\n",
    "from nltk.tokenize import word_tokenize\n",
    "\n",
    "def word_tokenize_wrapper(text):\n",
    "  return word_tokenize(text)\n",
    "\n",
    "df['ulasan'] = df['ulasan'].apply(word_tokenize_wrapper)\n",
    "df.head()"
   ]
  },
  {
   "cell_type": "code",
   "execution_count": 17,
   "id": "c28288ee",
   "metadata": {},
   "outputs": [],
   "source": [
    "df.to_csv('hasil tokenizing.csv')"
   ]
  },
  {
   "cell_type": "markdown",
   "id": "35bdeeb5",
   "metadata": {},
   "source": [
    "**Spell Normalization**\n",
    "\n",
    "menyeragamkan kata yang memiliki makna yang sama namun penulisannya berbeda"
   ]
  },
  {
   "cell_type": "code",
   "execution_count": 18,
   "id": "f216e2b9",
   "metadata": {},
   "outputs": [
    {
     "data": {
      "text/html": [
       "<div>\n",
       "<style scoped>\n",
       "    .dataframe tbody tr th:only-of-type {\n",
       "        vertical-align: middle;\n",
       "    }\n",
       "\n",
       "    .dataframe tbody tr th {\n",
       "        vertical-align: top;\n",
       "    }\n",
       "\n",
       "    .dataframe thead th {\n",
       "        text-align: right;\n",
       "    }\n",
       "</style>\n",
       "<table border=\"1\" class=\"dataframe\">\n",
       "  <thead>\n",
       "    <tr style=\"text-align: right;\">\n",
       "      <th></th>\n",
       "      <th>nama</th>\n",
       "      <th>ulasan</th>\n",
       "      <th>penilaian</th>\n",
       "    </tr>\n",
       "  </thead>\n",
       "  <tbody>\n",
       "    <tr>\n",
       "      <th>0</th>\n",
       "      <td>Ardison Samsung</td>\n",
       "      <td>[bagi, saya, tokopedia, rupa, online, shop, ya...</td>\n",
       "      <td>5</td>\n",
       "    </tr>\n",
       "    <tr>\n",
       "      <th>1</th>\n",
       "      <td>samsudin elfani</td>\n",
       "      <td>[belanja, paling, aman, tokopedia, tentunya, t...</td>\n",
       "      <td>5</td>\n",
       "    </tr>\n",
       "    <tr>\n",
       "      <th>2</th>\n",
       "      <td>Dhika Rahmawati</td>\n",
       "      <td>[pernah, bikin, akun, tapi, pernah, transaksi,...</td>\n",
       "      <td>1</td>\n",
       "    </tr>\n",
       "    <tr>\n",
       "      <th>3</th>\n",
       "      <td>Reza Fisabilillah</td>\n",
       "      <td>[kemarin, banyak, gambar, yg, tidak, bisa, buk...</td>\n",
       "      <td>3</td>\n",
       "    </tr>\n",
       "    <tr>\n",
       "      <th>4</th>\n",
       "      <td>Haviza Yeni official</td>\n",
       "      <td>[saya, mau, tanya, kenapa, toko, mau, saya, be...</td>\n",
       "      <td>2</td>\n",
       "    </tr>\n",
       "  </tbody>\n",
       "</table>\n",
       "</div>"
      ],
      "text/plain": [
       "                   nama                                             ulasan  \\\n",
       "0       Ardison Samsung  [bagi, saya, tokopedia, rupa, online, shop, ya...   \n",
       "1       samsudin elfani  [belanja, paling, aman, tokopedia, tentunya, t...   \n",
       "2       Dhika Rahmawati  [pernah, bikin, akun, tapi, pernah, transaksi,...   \n",
       "3     Reza Fisabilillah  [kemarin, banyak, gambar, yg, tidak, bisa, buk...   \n",
       "4  Haviza Yeni official  [saya, mau, tanya, kenapa, toko, mau, saya, be...   \n",
       "\n",
       "   penilaian  \n",
       "0          5  \n",
       "1          5  \n",
       "2          1  \n",
       "3          3  \n",
       "4          2  "
      ]
     },
     "execution_count": 18,
     "metadata": {},
     "output_type": "execute_result"
    }
   ],
   "source": [
    "normalized_word = pd.read_excel(open('E:\\\\[ DOCUMENTS ]\\\\GUNADARMA\\\\PENULISAN ILMIAH\\\\Project\\\\Jupyter-project\\\\Datasets\\\\normalisasi.xlsx', 'rb'), sheet_name='Sheet1')\n",
    "normalized_word_dict = {}\n",
    "\n",
    "for index, row in normalized_word.iterrows():\n",
    "  if row[0] not in normalized_word_dict:\n",
    "    normalized_word_dict[row[0]] = row[1]\n",
    "\n",
    "def normalized_term(document):\n",
    "  return [normalized_word_dict[term] if term in normalized_word_dict else term for term in document]\n",
    "\n",
    "df['ulasan'] = df['ulasan'].apply(normalized_term)\n",
    "df.head()"
   ]
  },
  {
   "cell_type": "code",
   "execution_count": 19,
   "id": "9ffd433a",
   "metadata": {},
   "outputs": [],
   "source": [
    "df.to_csv('hasil spell normalization.csv')"
   ]
  },
  {
   "cell_type": "markdown",
   "id": "c4c1105e",
   "metadata": {},
   "source": [
    "**Filtering**\n",
    "\n",
    "memfilter untuk mengambil kata-kata penting dengan menggunakan algoritma *stoplist* (membuang kata kurang penting)\n",
    "\n",
    "*stopword* adalah kata umum yang biasa muncul dalam jumlah besar dan dianggap tidak memiliki makna\n",
    "\n",
    "contoh stopword dalam bahasa Indonesia adalah \"yang\", \"dan\", \"di\", \"dari\", \"dengan\", \"untuk\", dll"
   ]
  },
  {
   "cell_type": "code",
   "execution_count": 20,
   "id": "a2adb423",
   "metadata": {},
   "outputs": [
    {
     "name": "stderr",
     "output_type": "stream",
     "text": [
      "[nltk_data] Downloading package stopwords to C:\\Users\\Ramdani\n",
      "[nltk_data]     Adan\\AppData\\Roaming\\nltk_data...\n",
      "[nltk_data]   Package stopwords is already up-to-date!\n"
     ]
    },
    {
     "name": "stdout",
     "output_type": "stream",
     "text": [
      "758\n"
     ]
    },
    {
     "data": {
      "text/html": [
       "<div>\n",
       "<style scoped>\n",
       "    .dataframe tbody tr th:only-of-type {\n",
       "        vertical-align: middle;\n",
       "    }\n",
       "\n",
       "    .dataframe tbody tr th {\n",
       "        vertical-align: top;\n",
       "    }\n",
       "\n",
       "    .dataframe thead th {\n",
       "        text-align: right;\n",
       "    }\n",
       "</style>\n",
       "<table border=\"1\" class=\"dataframe\">\n",
       "  <thead>\n",
       "    <tr style=\"text-align: right;\">\n",
       "      <th></th>\n",
       "      <th>nama</th>\n",
       "      <th>ulasan</th>\n",
       "      <th>penilaian</th>\n",
       "    </tr>\n",
       "  </thead>\n",
       "  <tbody>\n",
       "    <tr>\n",
       "      <th>0</th>\n",
       "      <td>Ardison Samsung</td>\n",
       "      <td>[percaya, keren, banget]</td>\n",
       "      <td>5</td>\n",
       "    </tr>\n",
       "    <tr>\n",
       "      <th>1</th>\n",
       "      <td>samsudin elfani</td>\n",
       "      <td>[aman, emang, bantu, promo, ongkir, gratis, ka...</td>\n",
       "      <td>5</td>\n",
       "    </tr>\n",
       "    <tr>\n",
       "      <th>2</th>\n",
       "      <td>Dhika Rahmawati</td>\n",
       "      <td>[akun, transaksi, ramai, gabung, unduh, promo,...</td>\n",
       "      <td>1</td>\n",
       "    </tr>\n",
       "    <tr>\n",
       "      <th>3</th>\n",
       "      <td>Reza Fisabilillah</td>\n",
       "      <td>[kemarin, gambar, buka, buka, gara, gara, siny...</td>\n",
       "      <td>3</td>\n",
       "    </tr>\n",
       "    <tr>\n",
       "      <th>4</th>\n",
       "      <td>Haviza Yeni official</td>\n",
       "      <td>[beli, bayar, tolong, solusi]</td>\n",
       "      <td>2</td>\n",
       "    </tr>\n",
       "  </tbody>\n",
       "</table>\n",
       "</div>"
      ],
      "text/plain": [
       "                   nama                                             ulasan  \\\n",
       "0       Ardison Samsung                           [percaya, keren, banget]   \n",
       "1       samsudin elfani  [aman, emang, bantu, promo, ongkir, gratis, ka...   \n",
       "2       Dhika Rahmawati  [akun, transaksi, ramai, gabung, unduh, promo,...   \n",
       "3     Reza Fisabilillah  [kemarin, gambar, buka, buka, gara, gara, siny...   \n",
       "4  Haviza Yeni official                      [beli, bayar, tolong, solusi]   \n",
       "\n",
       "   penilaian  \n",
       "0          5  \n",
       "1          5  \n",
       "2          1  \n",
       "3          3  \n",
       "4          2  "
      ]
     },
     "execution_count": 20,
     "metadata": {},
     "output_type": "execute_result"
    }
   ],
   "source": [
    "# import stopword from NLTK\n",
    "import nltk\n",
    "nltk.download('stopwords')\n",
    "\n",
    "from nltk.corpus import stopwords\n",
    "\n",
    "# dapatkan stopword indonesia dari NLTK stopword\n",
    "list_stopwords = stopwords.words('indonesian')\n",
    "print(len(list_stopwords))\n",
    "\n",
    "# menambahkan stopword tambahan\n",
    "list_stopwords.extend(['pas', 'ya', 'sih', 'deh', 'loh', 'oiya', 'nih', 'ok',\n",
    "                       'eh', 'yg', 'dg', 'rt', 'dgn', 'ny', 'klo', 'kalo',\n",
    "                       'amp', 'biar', 'bikin', 'bilang', 'gak', 'ga', 'krn',\n",
    "                       'nya', 'si', 'tau', 'tdk', 'tuh', 'utk', 'jd', 'jgn',\n",
    "                       'sdh', 'aja', 'nyg', 'hehe', 'pen', 'nan', 'rt',\n",
    "                       '&amp', 'yah', 'oy', 'jir'])\n",
    "\n",
    "# menambahkan stopword dari file csv\n",
    "txt_stopword = pd.read_csv('E:\\[ DOCUMENTS ]\\GUNADARMA\\PENULISAN ILMIAH\\Project\\Jupyter-project\\Datasets\\stopword_indonesia.txt', names=['stopwords'], header = None)\n",
    "\n",
    "# mengkonversi kata stopword tambahan & stopword pada file csv ke list\n",
    "list_stopwords.extend(txt_stopword['stopwords'][0].split(' '))\n",
    "\n",
    "# mengkonversi list ke dictionary\n",
    "list_stopwords = set(list_stopwords)\n",
    "\n",
    "# menghapus stopword pada data\n",
    "def stopwords_removal(words):\n",
    "  return [word for word in words if word not in list_stopwords]\n",
    "\n",
    "df['ulasan'] = df['ulasan'].apply(stopwords_removal)\n",
    "df.head()"
   ]
  },
  {
   "cell_type": "code",
   "execution_count": 21,
   "id": "dffcc989",
   "metadata": {},
   "outputs": [],
   "source": [
    "df.to_csv('hasil filtering.csv')"
   ]
  },
  {
   "cell_type": "code",
   "execution_count": 22,
   "id": "134a9854",
   "metadata": {},
   "outputs": [],
   "source": [
    "df.to_csv('hasil preprocessing.csv')"
   ]
  },
  {
   "cell_type": "code",
   "execution_count": 23,
   "id": "51bb013d",
   "metadata": {},
   "outputs": [
    {
     "data": {
      "text/html": [
       "<div>\n",
       "<style scoped>\n",
       "    .dataframe tbody tr th:only-of-type {\n",
       "        vertical-align: middle;\n",
       "    }\n",
       "\n",
       "    .dataframe tbody tr th {\n",
       "        vertical-align: top;\n",
       "    }\n",
       "\n",
       "    .dataframe thead th {\n",
       "        text-align: right;\n",
       "    }\n",
       "</style>\n",
       "<table border=\"1\" class=\"dataframe\">\n",
       "  <thead>\n",
       "    <tr style=\"text-align: right;\">\n",
       "      <th></th>\n",
       "      <th>nama</th>\n",
       "      <th>ulasan</th>\n",
       "      <th>penilaian</th>\n",
       "    </tr>\n",
       "  </thead>\n",
       "  <tbody>\n",
       "    <tr>\n",
       "      <th>0</th>\n",
       "      <td>Ardison Samsung</td>\n",
       "      <td>['percaya', 'keren', 'banget']</td>\n",
       "      <td>5</td>\n",
       "    </tr>\n",
       "    <tr>\n",
       "      <th>1</th>\n",
       "      <td>samsudin elfani</td>\n",
       "      <td>['aman', 'emang', 'bantu', 'promo', 'ongkir', ...</td>\n",
       "      <td>5</td>\n",
       "    </tr>\n",
       "    <tr>\n",
       "      <th>2</th>\n",
       "      <td>Dhika Rahmawati</td>\n",
       "      <td>['akun', 'transaksi', 'ramai', 'gabung', 'undu...</td>\n",
       "      <td>1</td>\n",
       "    </tr>\n",
       "    <tr>\n",
       "      <th>3</th>\n",
       "      <td>Reza Fisabilillah</td>\n",
       "      <td>['kemarin', 'gambar', 'buka', 'buka', 'gara', ...</td>\n",
       "      <td>3</td>\n",
       "    </tr>\n",
       "    <tr>\n",
       "      <th>4</th>\n",
       "      <td>Haviza Yeni official</td>\n",
       "      <td>['beli', 'bayar', 'tolong', 'solusi']</td>\n",
       "      <td>2</td>\n",
       "    </tr>\n",
       "  </tbody>\n",
       "</table>\n",
       "</div>"
      ],
      "text/plain": [
       "                   nama                                             ulasan  \\\n",
       "0       Ardison Samsung                     ['percaya', 'keren', 'banget']   \n",
       "1       samsudin elfani  ['aman', 'emang', 'bantu', 'promo', 'ongkir', ...   \n",
       "2       Dhika Rahmawati  ['akun', 'transaksi', 'ramai', 'gabung', 'undu...   \n",
       "3     Reza Fisabilillah  ['kemarin', 'gambar', 'buka', 'buka', 'gara', ...   \n",
       "4  Haviza Yeni official              ['beli', 'bayar', 'tolong', 'solusi']   \n",
       "\n",
       "   penilaian  \n",
       "0          5  \n",
       "1          5  \n",
       "2          1  \n",
       "3          3  \n",
       "4          2  "
      ]
     },
     "execution_count": 23,
     "metadata": {},
     "output_type": "execute_result"
    }
   ],
   "source": [
    "# load data hasil preprocessing kedalam dataframe\n",
    "\n",
    "import pandas as pd\n",
    "import numpy as np\n",
    "\n",
    "df = pd.read_csv('E:\\\\[ DOCUMENTS ]\\\\GUNADARMA\\\\PENULISAN ILMIAH\\\\Project\\\\Jupyter-project\\\\hasil preprocessing.csv', usecols=['nama', 'ulasan', 'penilaian'])\n",
    "df.columns = ['nama', 'ulasan', 'penilaian']\n",
    "\n",
    "df.head()"
   ]
  },
  {
   "cell_type": "code",
   "execution_count": 24,
   "id": "9864efba",
   "metadata": {},
   "outputs": [
    {
     "data": {
      "text/html": [
       "<div>\n",
       "<style scoped>\n",
       "    .dataframe tbody tr th:only-of-type {\n",
       "        vertical-align: middle;\n",
       "    }\n",
       "\n",
       "    .dataframe tbody tr th {\n",
       "        vertical-align: top;\n",
       "    }\n",
       "\n",
       "    .dataframe thead th {\n",
       "        text-align: right;\n",
       "    }\n",
       "</style>\n",
       "<table border=\"1\" class=\"dataframe\">\n",
       "  <thead>\n",
       "    <tr style=\"text-align: right;\">\n",
       "      <th></th>\n",
       "      <th>nama</th>\n",
       "      <th>ulasan</th>\n",
       "      <th>penilaian</th>\n",
       "    </tr>\n",
       "  </thead>\n",
       "  <tbody>\n",
       "    <tr>\n",
       "      <th>0</th>\n",
       "      <td>Ardison Samsung</td>\n",
       "      <td>percaya keren banget</td>\n",
       "      <td>5</td>\n",
       "    </tr>\n",
       "    <tr>\n",
       "      <th>1</th>\n",
       "      <td>samsudin elfani</td>\n",
       "      <td>aman emang bantu promo ongkir gratis kasih kasih</td>\n",
       "      <td>5</td>\n",
       "    </tr>\n",
       "    <tr>\n",
       "      <th>2</th>\n",
       "      <td>Dhika Rahmawati</td>\n",
       "      <td>akun transaksi ramai gabung unduh promo coba b...</td>\n",
       "      <td>1</td>\n",
       "    </tr>\n",
       "    <tr>\n",
       "      <th>3</th>\n",
       "      <td>Reza Fisabilillah</td>\n",
       "      <td>kemarin gambar buka buka gara gara sinyal down...</td>\n",
       "      <td>3</td>\n",
       "    </tr>\n",
       "    <tr>\n",
       "      <th>4</th>\n",
       "      <td>Haviza Yeni official</td>\n",
       "      <td>beli bayar tolong solusi</td>\n",
       "      <td>2</td>\n",
       "    </tr>\n",
       "  </tbody>\n",
       "</table>\n",
       "</div>"
      ],
      "text/plain": [
       "                   nama                                             ulasan  \\\n",
       "0       Ardison Samsung                               percaya keren banget   \n",
       "1       samsudin elfani   aman emang bantu promo ongkir gratis kasih kasih   \n",
       "2       Dhika Rahmawati  akun transaksi ramai gabung unduh promo coba b...   \n",
       "3     Reza Fisabilillah  kemarin gambar buka buka gara gara sinyal down...   \n",
       "4  Haviza Yeni official                           beli bayar tolong solusi   \n",
       "\n",
       "   penilaian  \n",
       "0          5  \n",
       "1          5  \n",
       "2          1  \n",
       "3          3  \n",
       "4          2  "
      ]
     },
     "execution_count": 24,
     "metadata": {},
     "output_type": "execute_result"
    }
   ],
   "source": [
    "# menggabungkan daftar token menjadi dokumen string tunggal\n",
    "\n",
    "import ast\n",
    "\n",
    "## def eval_code(code):\n",
    "    ## parsed = ast.parse(code, mode='eval')\n",
    "    ## fixed = ast.fix_missing_locations(parsed)\n",
    "    ## compiled = compile(fixed, '<string>', 'eval')\n",
    "    ## eval(compiled)\n",
    "\n",
    "def join_text_list(texts):\n",
    "  texts = ast.literal_eval(texts)\n",
    "  return ' '.join([text for text in texts])\n",
    "\n",
    "df['ulasan'] = df['ulasan'].apply(join_text_list)\n",
    "df.head()"
   ]
  },
  {
   "cell_type": "code",
   "execution_count": 25,
   "id": "e7f54ef6",
   "metadata": {},
   "outputs": [],
   "source": [
    "df.to_csv('hasil.csv')"
   ]
  },
  {
   "cell_type": "code",
   "execution_count": 26,
   "id": "37c5861f",
   "metadata": {},
   "outputs": [
    {
     "name": "stdout",
     "output_type": "stream",
     "text": [
      "ratio:  0.0 \n",
      "\n"
     ]
    },
    {
     "data": {
      "text/html": [
       "<div>\n",
       "<style scoped>\n",
       "    .dataframe tbody tr th:only-of-type {\n",
       "        vertical-align: middle;\n",
       "    }\n",
       "\n",
       "    .dataframe tbody tr th {\n",
       "        vertical-align: top;\n",
       "    }\n",
       "\n",
       "    .dataframe thead th {\n",
       "        text-align: right;\n",
       "    }\n",
       "</style>\n",
       "<table border=\"1\" class=\"dataframe\">\n",
       "  <thead>\n",
       "    <tr style=\"text-align: right;\">\n",
       "      <th></th>\n",
       "      <th>nama</th>\n",
       "      <th>ulasan</th>\n",
       "      <th>penilaian</th>\n",
       "    </tr>\n",
       "  </thead>\n",
       "  <tbody>\n",
       "    <tr>\n",
       "      <th>0</th>\n",
       "      <td>Ardison Samsung</td>\n",
       "      <td>percaya keren banget</td>\n",
       "      <td>5</td>\n",
       "    </tr>\n",
       "    <tr>\n",
       "      <th>1</th>\n",
       "      <td>samsudin elfani</td>\n",
       "      <td>aman emang bantu promo ongkir gratis kasih kasih</td>\n",
       "      <td>5</td>\n",
       "    </tr>\n",
       "    <tr>\n",
       "      <th>2</th>\n",
       "      <td>Dhika Rahmawati</td>\n",
       "      <td>akun transaksi ramai gabung unduh promo coba b...</td>\n",
       "      <td>1</td>\n",
       "    </tr>\n",
       "    <tr>\n",
       "      <th>3</th>\n",
       "      <td>Reza Fisabilillah</td>\n",
       "      <td>kemarin gambar buka buka gara gara sinyal down...</td>\n",
       "      <td>3</td>\n",
       "    </tr>\n",
       "    <tr>\n",
       "      <th>4</th>\n",
       "      <td>Haviza Yeni official</td>\n",
       "      <td>beli bayar tolong solusi</td>\n",
       "      <td>2</td>\n",
       "    </tr>\n",
       "  </tbody>\n",
       "</table>\n",
       "</div>"
      ],
      "text/plain": [
       "                   nama                                             ulasan  \\\n",
       "0       Ardison Samsung                               percaya keren banget   \n",
       "1       samsudin elfani   aman emang bantu promo ongkir gratis kasih kasih   \n",
       "2       Dhika Rahmawati  akun transaksi ramai gabung unduh promo coba b...   \n",
       "3     Reza Fisabilillah  kemarin gambar buka buka gara gara sinyal down...   \n",
       "4  Haviza Yeni official                           beli bayar tolong solusi   \n",
       "\n",
       "   penilaian  \n",
       "0          5  \n",
       "1          5  \n",
       "2          1  \n",
       "3          3  \n",
       "4          2  "
      ]
     },
     "execution_count": 26,
     "metadata": {},
     "output_type": "execute_result"
    }
   ],
   "source": [
    "import difflib\n",
    "\n",
    "#body_list = df['body'].tolist()\n",
    "review_text_list = df['ulasan'].tolist()\n",
    "\n",
    "#body = body_list\n",
    "reviews = review_text_list\n",
    "s = difflib.SequenceMatcher(None, reviews).ratio()\n",
    "print(\"ratio: \", s, \"\\n\")\n",
    "df.head()"
   ]
  },
  {
   "cell_type": "markdown",
   "id": "5d9eafa4",
   "metadata": {},
   "source": [
    "# **FREKUENSI & TFIDF**"
   ]
  },
  {
   "cell_type": "code",
   "execution_count": 27,
   "id": "b57baa0c",
   "metadata": {},
   "outputs": [],
   "source": [
    "# fungsi untuk memplot term yang paling sering muncul\n",
    "\n",
    "from nltk import FreqDist\n",
    "import seaborn as sns\n",
    "\n",
    "def freq_words(x, terms = 30):\n",
    "  all_words = ' '.join([text for text in x])\n",
    "  all_words = all_words.split()\n",
    "\n",
    "  fdist = FreqDist(all_words)\n",
    "  words_df = pd.DataFrame({'word':list(fdist.keys()), 'count':list(fdist.values())})\n",
    "\n",
    "  # memilih 25 term yang paling sering muncul\n",
    "  d = words_df.nlargest(columns=\"count\", n = terms)\n",
    "  plt.figure(figsize=(25, 7))\n",
    "  ax = sns.barplot(data=d, x = \"word\", y = \"count\")\n",
    "  ax.set(ylabel = \"Count\")\n",
    "  plt.show()"
   ]
  },
  {
   "cell_type": "code",
   "execution_count": 28,
   "id": "f99fc158",
   "metadata": {},
   "outputs": [
    {
     "data": {
      "image/png": "[encoded data removed]",
      "text/plain": [
       "<Figure size 1800x504 with 1 Axes>"
      ]
     },
     "metadata": {
      "needs_background": "light"
     },
     "output_type": "display_data"
    }
   ],
   "source": [
    "# plot term yang paling sering\n",
    "\n",
    "freq_words(df['ulasan'], 25)"
   ]
  },
  {
   "cell_type": "code",
   "execution_count": 29,
   "id": "90a65a7a",
   "metadata": {},
   "outputs": [
    {
     "data": {
      "text/html": [
       "<style>#sk-container-id-1 {color: black;background-color: white;}#sk-container-id-1 pre{padding: 0;}#sk-container-id-1 div.sk-toggleable {background-color: white;}#sk-container-id-1 label.sk-toggleable__label {cursor: pointer;display: block;width: 100%;margin-bottom: 0;padding: 0.3em;box-sizing: border-box;text-align: center;}#sk-container-id-1 label.sk-toggleable__label-arrow:before {content: \"▸\";float: left;margin-right: 0.25em;color: #696969;}#sk-container-id-1 label.sk-toggleable__label-arrow:hover:before {color: black;}#sk-container-id-1 div.sk-estimator:hover label.sk-toggleable__label-arrow:before {color: black;}#sk-container-id-1 div.sk-toggleable__content {max-height: 0;max-width: 0;overflow: hidden;text-align: left;background-color: #f0f8ff;}#sk-container-id-1 div.sk-toggleable__content pre {margin: 0.2em;color: black;border-radius: 0.25em;background-color: #f0f8ff;}#sk-container-id-1 input.sk-toggleable__control:checked~div.sk-toggleable__content {max-height: 200px;max-width: 100%;overflow: auto;}#sk-container-id-1 input.sk-toggleable__control:checked~label.sk-toggleable__label-arrow:before {content: \"▾\";}#sk-container-id-1 div.sk-estimator input.sk-toggleable__control:checked~label.sk-toggleable__label {background-color: #d4ebff;}#sk-container-id-1 div.sk-label input.sk-toggleable__control:checked~label.sk-toggleable__label {background-color: #d4ebff;}#sk-container-id-1 input.sk-hidden--visually {border: 0;clip: rect(1px 1px 1px 1px);clip: rect(1px, 1px, 1px, 1px);height: 1px;margin: -1px;overflow: hidden;padding: 0;position: absolute;width: 1px;}#sk-container-id-1 div.sk-estimator {font-family: monospace;background-color: #f0f8ff;border: 1px dotted black;border-radius: 0.25em;box-sizing: border-box;margin-bottom: 0.5em;}#sk-container-id-1 div.sk-estimator:hover {background-color: #d4ebff;}#sk-container-id-1 div.sk-parallel-item::after {content: \"\";width: 100%;border-bottom: 1px solid gray;flex-grow: 1;}#sk-container-id-1 div.sk-label:hover label.sk-toggleable__label {background-color: #d4ebff;}#sk-container-id-1 div.sk-serial::before {content: \"\";position: absolute;border-left: 1px solid gray;box-sizing: border-box;top: 0;bottom: 0;left: 50%;z-index: 0;}#sk-container-id-1 div.sk-serial {display: flex;flex-direction: column;align-items: center;background-color: white;padding-right: 0.2em;padding-left: 0.2em;position: relative;}#sk-container-id-1 div.sk-item {position: relative;z-index: 1;}#sk-container-id-1 div.sk-parallel {display: flex;align-items: stretch;justify-content: center;background-color: white;position: relative;}#sk-container-id-1 div.sk-item::before, #sk-container-id-1 div.sk-parallel-item::before {content: \"\";position: absolute;border-left: 1px solid gray;box-sizing: border-box;top: 0;bottom: 0;left: 50%;z-index: -1;}#sk-container-id-1 div.sk-parallel-item {display: flex;flex-direction: column;z-index: 1;position: relative;background-color: white;}#sk-container-id-1 div.sk-parallel-item:first-child::after {align-self: flex-end;width: 50%;}#sk-container-id-1 div.sk-parallel-item:last-child::after {align-self: flex-start;width: 50%;}#sk-container-id-1 div.sk-parallel-item:only-child::after {width: 0;}#sk-container-id-1 div.sk-dashed-wrapped {border: 1px dashed gray;margin: 0 0.4em 0.5em 0.4em;box-sizing: border-box;padding-bottom: 0.4em;background-color: white;}#sk-container-id-1 div.sk-label label {font-family: monospace;font-weight: bold;display: inline-block;line-height: 1.2em;}#sk-container-id-1 div.sk-label-container {text-align: center;}#sk-container-id-1 div.sk-container {/* jupyter's `normalize.less` sets `[hidden] { display: none; }` but bootstrap.min.css set `[hidden] { display: none !important; }` so we also need the `!important` here to be able to override the default hidden behavior on the sphinx rendered scikit-learn.org. See: https://github.com/scikit-learn/scikit-learn/issues/21755 */display: inline-block !important;position: relative;}#sk-container-id-1 div.sk-text-repr-fallback {display: none;}</style><div id=\"sk-container-id-1\" class=\"sk-top-container\"><div class=\"sk-text-repr-fallback\"><pre>CountVectorizer(max_df=0.5, ngram_range=(1, 2), stop_words=&#x27;english&#x27;)</pre><b>In a Jupyter environment, please rerun this cell to show the HTML representation or trust the notebook. <br />On GitHub, the HTML representation is unable to render, please try loading this page with nbviewer.org.</b></div><div class=\"sk-container\" hidden><div class=\"sk-item\"><div class=\"sk-estimator sk-toggleable\"><input class=\"sk-toggleable__control sk-hidden--visually\" id=\"sk-estimator-id-1\" type=\"checkbox\" checked><label for=\"sk-estimator-id-1\" class=\"sk-toggleable__label sk-toggleable__label-arrow\">CountVectorizer</label><div class=\"sk-toggleable__content\"><pre>CountVectorizer(max_df=0.5, ngram_range=(1, 2), stop_words=&#x27;english&#x27;)</pre></div></div></div></div></div>"
      ],
      "text/plain": [
       "CountVectorizer(max_df=0.5, ngram_range=(1, 2), stop_words='english')"
      ]
     },
     "execution_count": 29,
     "metadata": {},
     "output_type": "execute_result"
    }
   ],
   "source": [
    "# Mengubah dokumen kata kedalam bentuk vector\n",
    "\n",
    "from sklearn.feature_extraction.text import CountVectorizer\n",
    "from sklearn.feature_extraction.text import TfidfTransformer\n",
    "cvec = CountVectorizer(stop_words='english', min_df=1, max_df=.5, ngram_range=(1, 2))\n",
    "cvec"
   ]
  },
  {
   "cell_type": "code",
   "execution_count": 30,
   "id": "bfee077a",
   "metadata": {},
   "outputs": [
    {
     "data": {
      "text/plain": [
       "29829"
      ]
     },
     "execution_count": 30,
     "metadata": {},
     "output_type": "execute_result"
    }
   ],
   "source": [
    "# menghitung semua n-gram yang ditemukan di semua dokumen\n",
    "\n",
    "from itertools import islice\n",
    "from nltk.corpus import stopwords\n",
    "global str\n",
    "\n",
    "cvec.fit(review_text_list)\n",
    "list(islice(cvec.vocabulary_.items(), 20))\n",
    "\n",
    "len(cvec.vocabulary_)"
   ]
  },
  {
   "cell_type": "code",
   "execution_count": 31,
   "id": "ae1a5af2",
   "metadata": {},
   "outputs": [
    {
     "data": {
      "text/plain": [
       "458"
      ]
     },
     "execution_count": 31,
     "metadata": {},
     "output_type": "execute_result"
    }
   ],
   "source": [
    "cvec = CountVectorizer(stop_words='english', min_df=.0025, max_df=.5, ngram_range=(1, 2))\n",
    "cvec.fit(review_text_list)\n",
    "len(cvec.vocabulary_)"
   ]
  },
  {
   "cell_type": "code",
   "execution_count": 32,
   "id": "5332cdf6",
   "metadata": {},
   "outputs": [
    {
     "name": "stdout",
     "output_type": "stream",
     "text": [
      "sparse matrix shape:  (4490, 458)\n",
      "nonzero count:  20653\n",
      "sparsity: 0.10%\n"
     ]
    }
   ],
   "source": [
    "cvec_counts = cvec.transform(review_text_list)\n",
    "print('sparse matrix shape: ', cvec_counts.shape)\n",
    "print('nonzero count: ', cvec_counts.nnz)\n",
    "print('sparsity: %.2f%%' % (100.0 * cvec_counts.nnz / (cvec_counts.shape[0] * cvec_counts.shape[0])))"
   ]
  },
  {
   "cell_type": "code",
   "execution_count": 33,
   "id": "b7806cd3",
   "metadata": {},
   "outputs": [
    {
     "data": {
      "text/html": [
       "<div>\n",
       "<style scoped>\n",
       "    .dataframe tbody tr th:only-of-type {\n",
       "        vertical-align: middle;\n",
       "    }\n",
       "\n",
       "    .dataframe tbody tr th {\n",
       "        vertical-align: top;\n",
       "    }\n",
       "\n",
       "    .dataframe thead th {\n",
       "        text-align: right;\n",
       "    }\n",
       "</style>\n",
       "<table border=\"1\" class=\"dataframe\">\n",
       "  <thead>\n",
       "    <tr style=\"text-align: right;\">\n",
       "      <th></th>\n",
       "      <th>term</th>\n",
       "      <th>occurrences</th>\n",
       "    </tr>\n",
       "  </thead>\n",
       "  <tbody>\n",
       "    <tr>\n",
       "      <th>190</th>\n",
       "      <td>kasih</td>\n",
       "      <td>582</td>\n",
       "    </tr>\n",
       "    <tr>\n",
       "      <th>43</th>\n",
       "      <td>bayar</td>\n",
       "      <td>548</td>\n",
       "    </tr>\n",
       "    <tr>\n",
       "      <th>53</th>\n",
       "      <td>beli</td>\n",
       "      <td>474</td>\n",
       "    </tr>\n",
       "    <tr>\n",
       "      <th>26</th>\n",
       "      <td>bagus</td>\n",
       "      <td>438</td>\n",
       "    </tr>\n",
       "    <tr>\n",
       "      <th>335</th>\n",
       "      <td>promo</td>\n",
       "      <td>410</td>\n",
       "    </tr>\n",
       "    <tr>\n",
       "      <th>294</th>\n",
       "      <td>ongkir</td>\n",
       "      <td>381</td>\n",
       "    </tr>\n",
       "    <tr>\n",
       "      <th>140</th>\n",
       "      <td>gratis</td>\n",
       "      <td>352</td>\n",
       "    </tr>\n",
       "    <tr>\n",
       "      <th>38</th>\n",
       "      <td>batal</td>\n",
       "      <td>324</td>\n",
       "    </tr>\n",
       "    <tr>\n",
       "      <th>32</th>\n",
       "      <td>banget</td>\n",
       "      <td>299</td>\n",
       "    </tr>\n",
       "    <tr>\n",
       "      <th>322</th>\n",
       "      <td>pesan</td>\n",
       "      <td>289</td>\n",
       "    </tr>\n",
       "    <tr>\n",
       "      <th>270</th>\n",
       "      <td>mudah</td>\n",
       "      <td>282</td>\n",
       "    </tr>\n",
       "    <tr>\n",
       "      <th>195</th>\n",
       "      <td>kecewa</td>\n",
       "      <td>267</td>\n",
       "    </tr>\n",
       "    <tr>\n",
       "      <th>36</th>\n",
       "      <td>bantu</td>\n",
       "      <td>257</td>\n",
       "    </tr>\n",
       "    <tr>\n",
       "      <th>307</th>\n",
       "      <td>pake</td>\n",
       "      <td>248</td>\n",
       "    </tr>\n",
       "    <tr>\n",
       "      <th>205</th>\n",
       "      <td>kirim</td>\n",
       "      <td>246</td>\n",
       "    </tr>\n",
       "    <tr>\n",
       "      <th>305</th>\n",
       "      <td>pakai</td>\n",
       "      <td>236</td>\n",
       "    </tr>\n",
       "    <tr>\n",
       "      <th>64</th>\n",
       "      <td>bintang</td>\n",
       "      <td>225</td>\n",
       "    </tr>\n",
       "    <tr>\n",
       "      <th>146</th>\n",
       "      <td>hadiah</td>\n",
       "      <td>222</td>\n",
       "    </tr>\n",
       "    <tr>\n",
       "      <th>178</th>\n",
       "      <td>jual</td>\n",
       "      <td>222</td>\n",
       "    </tr>\n",
       "    <tr>\n",
       "      <th>427</th>\n",
       "      <td>transaksi</td>\n",
       "      <td>220</td>\n",
       "    </tr>\n",
       "  </tbody>\n",
       "</table>\n",
       "</div>"
      ],
      "text/plain": [
       "          term  occurrences\n",
       "190      kasih          582\n",
       "43       bayar          548\n",
       "53        beli          474\n",
       "26       bagus          438\n",
       "335      promo          410\n",
       "294     ongkir          381\n",
       "140     gratis          352\n",
       "38       batal          324\n",
       "32      banget          299\n",
       "322      pesan          289\n",
       "270      mudah          282\n",
       "195     kecewa          267\n",
       "36       bantu          257\n",
       "307       pake          248\n",
       "205      kirim          246\n",
       "305      pakai          236\n",
       "64     bintang          225\n",
       "146     hadiah          222\n",
       "178       jual          222\n",
       "427  transaksi          220"
      ]
     },
     "execution_count": 33,
     "metadata": {},
     "output_type": "execute_result"
    }
   ],
   "source": [
    "# menghitung frekuensi kemunculan term\n",
    "\n",
    "occ = np.asarray(cvec_counts.sum(axis=0)).ravel().tolist()\n",
    "counts_df = pd.DataFrame({'term': cvec.get_feature_names_out(), 'occurrences': occ})\n",
    "counts_df.sort_values(by='occurrences', ascending=False).head(20)"
   ]
  },
  {
   "cell_type": "code",
   "execution_count": 34,
   "id": "6641f8ae",
   "metadata": {},
   "outputs": [
    {
     "data": {
      "text/plain": [
       "<4490x458 sparse matrix of type '<class 'numpy.float64'>'\n",
       "\twith 20653 stored elements in Compressed Sparse Row format>"
      ]
     },
     "execution_count": 34,
     "metadata": {},
     "output_type": "execute_result"
    }
   ],
   "source": [
    "# sekarang kita memiliki jumlah term untuk setiap dokumen kita dapat menggunakan TFIDF Transformer untuk menghitung\n",
    "# bobot untuk setiap istilah dalam setiap dokumen\n",
    "\n",
    "transformer = TfidfTransformer()\n",
    "transformed_weights = transformer.fit_transform(cvec_counts)\n",
    "transformed_weights"
   ]
  },
  {
   "cell_type": "code",
   "execution_count": 35,
   "id": "46541083",
   "metadata": {},
   "outputs": [
    {
     "data": {
      "text/html": [
       "<div>\n",
       "<style scoped>\n",
       "    .dataframe tbody tr th:only-of-type {\n",
       "        vertical-align: middle;\n",
       "    }\n",
       "\n",
       "    .dataframe tbody tr th {\n",
       "        vertical-align: top;\n",
       "    }\n",
       "\n",
       "    .dataframe thead th {\n",
       "        text-align: right;\n",
       "    }\n",
       "</style>\n",
       "<table border=\"1\" class=\"dataframe\">\n",
       "  <thead>\n",
       "    <tr style=\"text-align: right;\">\n",
       "      <th></th>\n",
       "      <th>term</th>\n",
       "      <th>weight</th>\n",
       "    </tr>\n",
       "  </thead>\n",
       "  <tbody>\n",
       "    <tr>\n",
       "      <th>26</th>\n",
       "      <td>bagus</td>\n",
       "      <td>0.040518</td>\n",
       "    </tr>\n",
       "    <tr>\n",
       "      <th>190</th>\n",
       "      <td>kasih</td>\n",
       "      <td>0.036805</td>\n",
       "    </tr>\n",
       "    <tr>\n",
       "      <th>270</th>\n",
       "      <td>mudah</td>\n",
       "      <td>0.028807</td>\n",
       "    </tr>\n",
       "    <tr>\n",
       "      <th>43</th>\n",
       "      <td>bayar</td>\n",
       "      <td>0.028423</td>\n",
       "    </tr>\n",
       "    <tr>\n",
       "      <th>36</th>\n",
       "      <td>bantu</td>\n",
       "      <td>0.026991</td>\n",
       "    </tr>\n",
       "    <tr>\n",
       "      <th>53</th>\n",
       "      <td>beli</td>\n",
       "      <td>0.025727</td>\n",
       "    </tr>\n",
       "    <tr>\n",
       "      <th>335</th>\n",
       "      <td>promo</td>\n",
       "      <td>0.024814</td>\n",
       "    </tr>\n",
       "    <tr>\n",
       "      <th>140</th>\n",
       "      <td>gratis</td>\n",
       "      <td>0.024246</td>\n",
       "    </tr>\n",
       "    <tr>\n",
       "      <th>255</th>\n",
       "      <td>mantap</td>\n",
       "      <td>0.022773</td>\n",
       "    </tr>\n",
       "    <tr>\n",
       "      <th>294</th>\n",
       "      <td>ongkir</td>\n",
       "      <td>0.021643</td>\n",
       "    </tr>\n",
       "    <tr>\n",
       "      <th>32</th>\n",
       "      <td>banget</td>\n",
       "      <td>0.021520</td>\n",
       "    </tr>\n",
       "    <tr>\n",
       "      <th>146</th>\n",
       "      <td>hadiah</td>\n",
       "      <td>0.020286</td>\n",
       "    </tr>\n",
       "    <tr>\n",
       "      <th>64</th>\n",
       "      <td>bintang</td>\n",
       "      <td>0.018610</td>\n",
       "    </tr>\n",
       "    <tr>\n",
       "      <th>322</th>\n",
       "      <td>pesan</td>\n",
       "      <td>0.017900</td>\n",
       "    </tr>\n",
       "    <tr>\n",
       "      <th>38</th>\n",
       "      <td>batal</td>\n",
       "      <td>0.017404</td>\n",
       "    </tr>\n",
       "    <tr>\n",
       "      <th>85</th>\n",
       "      <td>cepat</td>\n",
       "      <td>0.017149</td>\n",
       "    </tr>\n",
       "    <tr>\n",
       "      <th>195</th>\n",
       "      <td>kecewa</td>\n",
       "      <td>0.017092</td>\n",
       "    </tr>\n",
       "    <tr>\n",
       "      <th>388</th>\n",
       "      <td>suka</td>\n",
       "      <td>0.016684</td>\n",
       "    </tr>\n",
       "    <tr>\n",
       "      <th>411</th>\n",
       "      <td>terimakasih</td>\n",
       "      <td>0.016174</td>\n",
       "    </tr>\n",
       "    <tr>\n",
       "      <th>205</th>\n",
       "      <td>kirim</td>\n",
       "      <td>0.015399</td>\n",
       "    </tr>\n",
       "  </tbody>\n",
       "</table>\n",
       "</div>"
      ],
      "text/plain": [
       "            term    weight\n",
       "26         bagus  0.040518\n",
       "190        kasih  0.036805\n",
       "270        mudah  0.028807\n",
       "43         bayar  0.028423\n",
       "36         bantu  0.026991\n",
       "53          beli  0.025727\n",
       "335        promo  0.024814\n",
       "140       gratis  0.024246\n",
       "255       mantap  0.022773\n",
       "294       ongkir  0.021643\n",
       "32        banget  0.021520\n",
       "146       hadiah  0.020286\n",
       "64       bintang  0.018610\n",
       "322        pesan  0.017900\n",
       "38         batal  0.017404\n",
       "85         cepat  0.017149\n",
       "195       kecewa  0.017092\n",
       "388         suka  0.016684\n",
       "411  terimakasih  0.016174\n",
       "205        kirim  0.015399"
      ]
     },
     "execution_count": 35,
     "metadata": {},
     "output_type": "execute_result"
    }
   ],
   "source": [
    "# melihat 20 term teratas dengan weight rata-rata TFIDF\n",
    "\n",
    "weights = np.asarray(transformed_weights.mean(axis=0)).ravel().tolist()\n",
    "weights_df = pd.DataFrame({'term': cvec.get_feature_names_out(), 'weight': weights})\n",
    "weights_df.sort_values(by='weight', ascending=False).head(20)"
   ]
  },
  {
   "cell_type": "markdown",
   "id": "e3198320",
   "metadata": {},
   "source": [
    "# **PELABELAN**"
   ]
  },
  {
   "cell_type": "code",
   "execution_count": 36,
   "id": "1e155693",
   "metadata": {},
   "outputs": [],
   "source": [
    "# membuat kamus data\n",
    "\n",
    "word_dict = {}\n",
    "for i in range(0, len(df['ulasan'])):\n",
    "  sentence = df['ulasan'][i]\n",
    "  word_token = word_tokenize(sentence)\n",
    "  for j in word_token:\n",
    "    if j not in word_dict:\n",
    "      word_dict[j] = 1\n",
    "    else:\n",
    "      word_dict[j] += 1"
   ]
  },
  {
   "cell_type": "code",
   "execution_count": 37,
   "id": "fbc7fcaf",
   "metadata": {},
   "outputs": [
    {
     "data": {
      "text/plain": [
       "6722"
      ]
     },
     "execution_count": 37,
     "metadata": {},
     "output_type": "execute_result"
    }
   ],
   "source": [
    "len(word_dict)"
   ]
  },
  {
   "cell_type": "code",
   "execution_count": 38,
   "id": "fbf92dcb",
   "metadata": {},
   "outputs": [
    {
     "data": {
      "text/plain": [
       "5656"
      ]
     },
     "execution_count": 38,
     "metadata": {},
     "output_type": "execute_result"
    }
   ],
   "source": [
    "len({k:v for (k, v) in word_dict.items() if v < 4})"
   ]
  },
  {
   "cell_type": "code",
   "execution_count": 39,
   "id": "a7d1e991",
   "metadata": {},
   "outputs": [],
   "source": [
    "# import lexicon, dan hapus kata-kata negasi dari leksikon\n",
    "\n",
    "negasi = ['bukan', 'tidak', 'ga', 'gk', 'gak']\n",
    "lexicon = pd.read_csv('E:\\\\[ DOCUMENTS ]\\\\GUNADARMA\\\\PENULISAN ILMIAH\\\\Project\\\\Jupyter-project\\\\Datasets\\\\modified_full_lexicon_indo.csv')\n",
    "lexicon = lexicon.drop(lexicon[(lexicon['word'] == 'bukan' )\n",
    "                                |(lexicon['word'] == 'tidak')\n",
    "                                |(lexicon['word'] == 'ga')\n",
    "                                |(lexicon['word'] == 'gk')\n",
    "                                |(lexicon['word'] == 'engga')\n",
    "                                |(lexicon['word'] == 'ngga')\n",
    "                                |(lexicon['word'] == 'kaga')\n",
    "                                |(lexicon['word'] == 'kagak')\n",
    "                                |(lexicon['word'] == 'gak')].index, axis=0)\n",
    "lexicon = lexicon.reset_index(drop=True)"
   ]
  },
  {
   "cell_type": "code",
   "execution_count": 40,
   "id": "6568e43d",
   "metadata": {},
   "outputs": [
    {
     "data": {
      "text/plain": [
       "10246"
      ]
     },
     "execution_count": 40,
     "metadata": {},
     "output_type": "execute_result"
    }
   ],
   "source": [
    "len(lexicon)"
   ]
  },
  {
   "cell_type": "code",
   "execution_count": 41,
   "id": "e2ca46f1",
   "metadata": {},
   "outputs": [
    {
     "data": {
      "text/html": [
       "<div>\n",
       "<style scoped>\n",
       "    .dataframe tbody tr th:only-of-type {\n",
       "        vertical-align: middle;\n",
       "    }\n",
       "\n",
       "    .dataframe tbody tr th {\n",
       "        vertical-align: top;\n",
       "    }\n",
       "\n",
       "    .dataframe thead th {\n",
       "        text-align: right;\n",
       "    }\n",
       "</style>\n",
       "<table border=\"1\" class=\"dataframe\">\n",
       "  <thead>\n",
       "    <tr style=\"text-align: right;\">\n",
       "      <th></th>\n",
       "      <th>word</th>\n",
       "      <th>weight</th>\n",
       "      <th>number_of_words</th>\n",
       "    </tr>\n",
       "  </thead>\n",
       "  <tbody>\n",
       "    <tr>\n",
       "      <th>0</th>\n",
       "      <td>hai</td>\n",
       "      <td>3</td>\n",
       "      <td>1</td>\n",
       "    </tr>\n",
       "    <tr>\n",
       "      <th>1</th>\n",
       "      <td>merekam</td>\n",
       "      <td>2</td>\n",
       "      <td>1</td>\n",
       "    </tr>\n",
       "    <tr>\n",
       "      <th>2</th>\n",
       "      <td>ekstensif</td>\n",
       "      <td>3</td>\n",
       "      <td>1</td>\n",
       "    </tr>\n",
       "    <tr>\n",
       "      <th>3</th>\n",
       "      <td>paripurna</td>\n",
       "      <td>1</td>\n",
       "      <td>1</td>\n",
       "    </tr>\n",
       "    <tr>\n",
       "      <th>4</th>\n",
       "      <td>detail</td>\n",
       "      <td>2</td>\n",
       "      <td>1</td>\n",
       "    </tr>\n",
       "    <tr>\n",
       "      <th>5</th>\n",
       "      <td>pernik</td>\n",
       "      <td>3</td>\n",
       "      <td>1</td>\n",
       "    </tr>\n",
       "    <tr>\n",
       "      <th>6</th>\n",
       "      <td>belas</td>\n",
       "      <td>2</td>\n",
       "      <td>1</td>\n",
       "    </tr>\n",
       "    <tr>\n",
       "      <th>7</th>\n",
       "      <td>welas</td>\n",
       "      <td>4</td>\n",
       "      <td>1</td>\n",
       "    </tr>\n",
       "    <tr>\n",
       "      <th>8</th>\n",
       "      <td>kabung</td>\n",
       "      <td>1</td>\n",
       "      <td>1</td>\n",
       "    </tr>\n",
       "    <tr>\n",
       "      <th>9</th>\n",
       "      <td>rahayu</td>\n",
       "      <td>4</td>\n",
       "      <td>1</td>\n",
       "    </tr>\n",
       "  </tbody>\n",
       "</table>\n",
       "</div>"
      ],
      "text/plain": [
       "        word  weight  number_of_words\n",
       "0        hai       3                1\n",
       "1    merekam       2                1\n",
       "2  ekstensif       3                1\n",
       "3  paripurna       1                1\n",
       "4     detail       2                1\n",
       "5     pernik       3                1\n",
       "6      belas       2                1\n",
       "7      welas       4                1\n",
       "8     kabung       1                1\n",
       "9     rahayu       4                1"
      ]
     },
     "execution_count": 41,
     "metadata": {},
     "output_type": "execute_result"
    }
   ],
   "source": [
    "lexicon.head(10)"
   ]
  },
  {
   "cell_type": "code",
   "execution_count": 42,
   "id": "72280705",
   "metadata": {},
   "outputs": [],
   "source": [
    "lexicon_word = lexicon['word'].to_list()\n",
    "lexicon_num_words = lexicon['number_of_words']"
   ]
  },
  {
   "cell_type": "code",
   "execution_count": 43,
   "id": "91c07458",
   "metadata": {},
   "outputs": [
    {
     "data": {
      "text/plain": [
       "10246"
      ]
     },
     "execution_count": 43,
     "metadata": {},
     "output_type": "execute_result"
    }
   ],
   "source": [
    "len(lexicon_word)"
   ]
  },
  {
   "cell_type": "code",
   "execution_count": 44,
   "id": "e165caae",
   "metadata": {},
   "outputs": [
    {
     "data": {
      "text/plain": [
       "5557"
      ]
     },
     "execution_count": 44,
     "metadata": {},
     "output_type": "execute_result"
    }
   ],
   "source": [
    "# memeriksa apakah ada kata dalam kamus yang tidak termasuk dalam lexicon\n",
    "\n",
    "from Sastrawi.Stemmer.StemmerFactory import StemmerFactory\n",
    "\n",
    "ns_words = []\n",
    "factory = StemmerFactory()\n",
    "stemmer = factory.create_stemmer()\n",
    "\n",
    "for word in word_dict.keys():\n",
    "  if word not in lexicon_word:\n",
    "    kata_dasar = stemmer.stem(word)\n",
    "    if kata_dasar not in lexicon_word:\n",
    "      ns_words.append(word)\n",
    "\n",
    "len(ns_words)"
   ]
  },
  {
   "cell_type": "code",
   "execution_count": 45,
   "id": "3c7fb182",
   "metadata": {},
   "outputs": [
    {
     "data": {
      "text/plain": [
       "621"
      ]
     },
     "execution_count": 45,
     "metadata": {},
     "output_type": "execute_result"
    }
   ],
   "source": [
    "# melihat jenis kata, dimulai dengan beberapa kata yang memiliki banyak kemunculan\n",
    "# karena kemungkinan besar ini bukan tipe case\n",
    "\n",
    "len({k:v for (k, v) in word_dict.items() if ((k in ns_words) & (v > 3))})"
   ]
  },
  {
   "cell_type": "code",
   "execution_count": 46,
   "id": "4f52eca9",
   "metadata": {},
   "outputs": [],
   "source": [
    "ns_words_list = {k:v for (k, v) in word_dict.items() if ((k in ns_words) & (v > 3))}"
   ]
  },
  {
   "cell_type": "code",
   "execution_count": 47,
   "id": "253b9b2b",
   "metadata": {},
   "outputs": [
    {
     "name": "stdout",
     "output_type": "stream",
     "text": [
      "ongkir 381\n",
      "kecewa 267\n",
      "pake 248\n",
      "pakai 236\n",
      "bintang 225\n",
      "uang 185\n",
      "tipu 181\n",
      "akun 154\n",
      "cod 154\n",
      "udh 119\n",
      "cashback 115\n",
      "rp 110\n",
      "seller 102\n",
      "karna 94\n",
      "kurir 78\n",
      "order 77\n",
      "aman 76\n",
      "fitur 76\n",
      "alamat 75\n",
      "langgar 74\n",
      "shopee 73\n",
      "alas 64\n",
      "keren 52\n",
      "emang 51\n",
      "instal 50\n",
      "refund 50\n",
      "dibatalin 49\n",
      "indonesia 48\n",
      "sya 46\n",
      "ribu 46\n",
      "panen 45\n",
      "traktiran 44\n",
      "best 44\n",
      "vocer 43\n",
      "tpi 43\n",
      "tulis 43\n",
      "telur 43\n",
      "maju 43\n",
      "komplain 42\n",
      "kendala 42\n",
      "batalin 42\n",
      "rupiah 42\n",
      "bank 42\n",
      "cancel 41\n",
      "sen 41\n",
      "gabisa 41\n",
      "niat 40\n",
      "cs 40\n",
      "cuman 40\n",
      "ko 40\n",
      "app 39\n",
      "iklan 39\n",
      "nomor 38\n",
      "transfer 38\n",
      "ngga 38\n",
      "duit 37\n",
      "tgl 37\n",
      "konsumen 37\n",
      "dipake 37\n",
      "via 36\n",
      "gopay 36\n",
      "gue 35\n",
      "sandi 35\n",
      "menu 34\n",
      "rekening 34\n",
      "login 33\n",
      "syarat 33\n",
      "nama 33\n",
      "ulas 33\n",
      "ku 33\n",
      "jt 33\n",
      "checkout 32\n",
      "jam 32\n",
      "driver 32\n",
      "tetep 32\n",
      "minggu 31\n",
      "biaya 31\n",
      "admin 31\n",
      "ubah 31\n",
      "verifikasi 30\n",
      "berat 30\n",
      "knp 30\n",
      "ulang 29\n",
      "klik 29\n",
      "point 29\n",
      "payah 29\n",
      "apl 29\n",
      "ad 29\n",
      "bingung 28\n",
      "email 27\n",
      "gilir 27\n",
      "blanja 27\n",
      "up 27\n",
      "internet 26\n",
      "klaim 26\n",
      "ditokopedia 26\n",
      "kemarin 25\n",
      "marketplace 25\n",
      "utama 25\n",
      "bangsa 25\n",
      "brg 25\n",
      "nipu 24\n",
      "lazada 24\n",
      "uninstall 24\n",
      "dasar 24\n",
      "pdhl 24\n",
      "juni 23\n",
      "google 23\n",
      "lgi 22\n",
      "customer 22\n",
      "prakerja 22\n",
      "nyampe 22\n",
      "voucer 22\n",
      "nomer 21\n",
      "sulit 21\n",
      "penuh 21\n",
      "paham 21\n",
      "notifikasi 21\n",
      "balikin 20\n",
      "estimasi 20\n",
      "link 20\n",
      "video 20\n",
      "mantab 20\n",
      "hadia 20\n",
      "time 20\n",
      "vocher 19\n",
      "nyoba 19\n",
      "iming 19\n",
      "gosend 19\n",
      "oren 19\n",
      "make 18\n",
      "semenjak 18\n",
      "manipulasi 18\n",
      "rating 18\n",
      "uninstal 18\n",
      "bsi 18\n",
      "full 17\n",
      "bnyak 17\n",
      "banyakin 17\n",
      "ecommerce 17\n",
      "jalan 17\n",
      "paylater 17\n",
      "daerah 17\n",
      "sllu 17\n",
      "jarang 17\n",
      "dicancel 16\n",
      "kartu 16\n",
      "indomaret 16\n",
      "kaga 16\n",
      "sk 16\n",
      "vouchernya 16\n",
      "sungguh 16\n",
      "slalu 16\n",
      "blnja 16\n",
      "kesini 16\n",
      "orange 15\n",
      "goto 15\n",
      "saing 15\n",
      "keluh 15\n",
      "bngt 15\n",
      "user 15\n",
      "opsi 15\n",
      "cashbacknya 15\n",
      "bsa 15\n",
      "lelet 15\n",
      "install 15\n",
      "instan 15\n",
      "dri 15\n",
      "sinyal 14\n",
      "situ 14\n",
      "retur 14\n",
      "wifi 14\n",
      "kota 14\n",
      "sma 14\n",
      "tc 14\n",
      "perhati 14\n",
      "tindak 14\n",
      "masukin 14\n",
      "status 14\n",
      "tambahin 14\n",
      "notif 14\n",
      "uda 14\n",
      "traktir 13\n",
      "virtual 13\n",
      "olshop 13\n",
      "smoga 13\n",
      "gajelas 13\n",
      "store 13\n",
      "menit 13\n",
      "developer 13\n",
      "mantul 13\n",
      "merchant 13\n",
      "program 13\n",
      "tf 13\n",
      "aq 13\n",
      "dagang 13\n",
      "muter 13\n",
      "tokoped 13\n",
      "ori 13\n",
      "krna 13\n",
      "diupdate 13\n",
      "lapak 12\n",
      "mesan 12\n",
      "buyer 12\n",
      "back 12\n",
      "jga 12\n",
      "total 12\n",
      "power 12\n",
      "sameday 12\n",
      "apps 12\n",
      "jangkau 12\n",
      "rekomendasi 12\n",
      "loading 12\n",
      "ajah 12\n",
      "ud 12\n",
      "komentar 12\n",
      "komen 12\n",
      "alfamart 12\n",
      "member 12\n",
      "pke 11\n",
      "kyk 11\n",
      "pribadi 11\n",
      "dipesan 11\n",
      "official 11\n",
      "pro 11\n",
      "account 11\n",
      "kredivo 11\n",
      "besok 11\n",
      "tetangga 11\n",
      "shoppe 11\n",
      "ekspedisi 11\n",
      "anteraja 11\n",
      "upgrade 11\n",
      "tokopediacare 11\n",
      "sellernya 11\n",
      "telurnya 11\n",
      "listrik 11\n",
      "teman 11\n",
      "engga 11\n",
      "masyarakat 11\n",
      "event 10\n",
      "password 10\n",
      "gmna 10\n",
      "bintangnya 10\n",
      "ngisi 10\n",
      "points 10\n",
      "ui 10\n",
      "donlod 10\n",
      "bri 10\n",
      "bnr 10\n",
      "pickup 10\n",
      "tera 10\n",
      "urus 10\n",
      "gimna 10\n",
      "skrng 10\n",
      "akal 10\n",
      "review 10\n",
      "web 10\n",
      "emas 10\n",
      "youtube 10\n",
      "direfund 9\n",
      "wib 9\n",
      "atm 9\n",
      "mantep 9\n",
      "tokopedianya 9\n",
      "friendly 9\n",
      "sicepat 9\n",
      "rubah 9\n",
      "anter 9\n",
      "sms 9\n",
      "nyusahin 9\n",
      "flash 9\n",
      "nga 9\n",
      "screenshot 9\n",
      "browser 9\n",
      "alfa 9\n",
      "knapa 9\n",
      "job 9\n",
      "ngapain 9\n",
      "pinjam 9\n",
      "msih 8\n",
      "gtu 8\n",
      "kk 8\n",
      "pelapak 8\n",
      "negeri 8\n",
      "cma 8\n",
      "lacak 8\n",
      "limit 8\n",
      "service 8\n",
      "syariah 8\n",
      "timur 8\n",
      "tks 8\n",
      "interface 8\n",
      "kredit 8\n",
      "nggk 8\n",
      "bner 8\n",
      "gerat 8\n",
      "ongkos 8\n",
      "ttp 8\n",
      "identitas 8\n",
      "bug 8\n",
      "halaman 8\n",
      "lokasi 8\n",
      "ngasi 8\n",
      "bru 8\n",
      "bicara 8\n",
      "fungsi 8\n",
      "dowload 8\n",
      "dpat 8\n",
      "sgt 8\n",
      "unistal 8\n",
      "hebat 8\n",
      "otp 8\n",
      "abal 8\n",
      "costumer 7\n",
      "sore 7\n",
      "pdahal 7\n",
      "responnya 7\n",
      "smua 7\n",
      "alias 7\n",
      "kaka 7\n",
      "persulit 7\n",
      "id 7\n",
      "koq 7\n",
      "bela 7\n",
      "day 7\n",
      "log 7\n",
      "sekian 7\n",
      "cekout 7\n",
      "klau 7\n",
      "kirain 7\n",
      "market 7\n",
      "serba 7\n",
      "briva 7\n",
      "instant 7\n",
      "ngambil 7\n",
      "adain 7\n",
      "gada 7\n",
      "narik 7\n",
      "smpe 7\n",
      "pakek 7\n",
      "sale 7\n",
      "pick 7\n",
      "tibatiba 7\n",
      "covid 7\n",
      "profesional 7\n",
      "iphone 7\n",
      "versi 7\n",
      "alesan 7\n",
      "casback 7\n",
      "bts 7\n",
      "byr 7\n",
      "expedisi 7\n",
      "yak 7\n",
      "cmn 7\n",
      "gold 7\n",
      "pajang 7\n",
      "complain 7\n",
      "dl 7\n",
      "insya 7\n",
      "server 7\n",
      "direspon 7\n",
      "skarang 6\n",
      "ngalamin 6\n",
      "prank 6\n",
      "nominal 6\n",
      "mlah 6\n",
      "jenis 6\n",
      "menggangu 6\n",
      "komplen 6\n",
      "apknya 6\n",
      "telkomsel 6\n",
      "shoope 6\n",
      "kepake 6\n",
      "thx 6\n",
      "alih 6\n",
      "token 6\n",
      "hrs 6\n",
      "recommended 6\n",
      "place 6\n",
      "jngan 6\n",
      "suru 6\n",
      "alhasil 6\n",
      "tlp 6\n",
      "robot 6\n",
      "grab 6\n",
      "anggap 6\n",
      "marketing 6\n",
      "betah 6\n",
      "keranjang 6\n",
      "benah 6\n",
      "servicenya 6\n",
      "dibalikin 6\n",
      "discount 6\n",
      "platform 6\n",
      "pecah 6\n",
      "commerce 6\n",
      "negatif 6\n",
      "kaleng 6\n",
      "rek 6\n",
      "onkir 6\n",
      "digital 6\n",
      "palsu 6\n",
      "pasar 6\n",
      "gunain 6\n",
      "ngadain 6\n",
      "contoh 6\n",
      "asuransi 6\n",
      "akulaku 6\n",
      "skali 6\n",
      "downlod 6\n",
      "ratus 6\n",
      "bagustapi 6\n",
      "barat 6\n",
      "robux 6\n",
      "desa 6\n",
      "samsung 6\n",
      "bli 6\n",
      "kacau 6\n",
      "bgus 6\n",
      "bbrp 6\n",
      "traktirannya 6\n",
      "ff 6\n",
      "bca 6\n",
      "pcs 6\n",
      "embel 6\n",
      "jwieee 6\n",
      "kakak 5\n",
      "tokopedi 5\n",
      "tranfer 5\n",
      "overall 5\n",
      "hrus 5\n",
      "jne 5\n",
      "bal 5\n",
      "product 5\n",
      "lokal 5\n",
      "brang 5\n",
      "janji 5\n",
      "provider 5\n",
      "dpet 5\n",
      "rbu 5\n",
      "rangin 5\n",
      "mobile 5\n",
      "system 5\n",
      "elektronik 5\n",
      "sejahtera 5\n",
      "deteksi 5\n",
      "mesin 5\n",
      "negri 5\n",
      "android 5\n",
      "topup 5\n",
      "resi 5\n",
      "nmr 5\n",
      "fiturnya 5\n",
      "truss 5\n",
      "baharu 5\n",
      "filter 5\n",
      "ngelanggar 5\n",
      "masker 5\n",
      "wajah 5\n",
      "kmrn 5\n",
      "bekerjasama 5\n",
      "edit 5\n",
      "fast 5\n",
      "sopan 5\n",
      "dm 5\n",
      "nonton 5\n",
      "ngirim 5\n",
      "recomended 5\n",
      "promosi 5\n",
      "food 5\n",
      "shope 5\n",
      "akurat 5\n",
      "beres 5\n",
      "rmh 5\n",
      "ecek 5\n",
      "tokoh 5\n",
      "benarbenar 5\n",
      "hri 5\n",
      "tiket 5\n",
      "rekomended 5\n",
      "applikasi 5\n",
      "ksih 5\n",
      "donwload 5\n",
      "blok 5\n",
      "doank 5\n",
      "pulau 5\n",
      "tuduh 5\n",
      "jta 5\n",
      "lbih 5\n",
      "jebak 5\n",
      "komplin 5\n",
      "call 5\n",
      "letak 5\n",
      "jawa 5\n",
      "putar 5\n",
      "br 5\n",
      "ap 5\n",
      "situs 5\n",
      "tracking 5\n",
      "kolom 5\n",
      "kesan 5\n",
      "layar 5\n",
      "tokopoint 5\n",
      "cesbek 5\n",
      "gmana 5\n",
      "muamalat 5\n",
      "tokopoints 5\n",
      "hoak 5\n",
      "media 5\n",
      "play 5\n",
      "notifnya 5\n",
      "screenshoot 5\n",
      "kantor 5\n",
      "bolak 4\n",
      "telpon 4\n",
      "nyangkut 4\n",
      "mei 4\n",
      "mao 4\n",
      "jkt 4\n",
      "bgtu 4\n",
      "blibli 4\n",
      "telp 4\n",
      "komplit 4\n",
      "dikecewakan 4\n",
      "benerin 4\n",
      "mantaaap 4\n",
      "baguss 4\n",
      "bangettt 4\n",
      "stlh 4\n",
      "wilayah 4\n",
      "same 4\n",
      "barusan 4\n",
      "knpa 4\n",
      "hape 4\n",
      "kondisi 4\n",
      "klok 4\n",
      "option 4\n",
      "tema 4\n",
      "map 4\n",
      "zonk 4\n",
      "menunya 4\n",
      "ngecewain 4\n",
      "icon 4\n",
      "va 4\n",
      "detik 4\n",
      "kya 4\n",
      "boss 4\n",
      "dh 4\n",
      "tv 4\n",
      "nyampenya 4\n",
      "mesen 4\n",
      "ngumpulin 4\n",
      "dtng 4\n",
      "offline 4\n",
      "mu 4\n",
      "shopping 4\n",
      "blanjaan 4\n",
      "sebal 4\n",
      "sip 4\n",
      "playstore 4\n",
      "original 4\n",
      "adminnya 4\n",
      "kwalitas 4\n",
      "tbtb 4\n",
      "ditransfer 4\n",
      "bnget 4\n",
      "gerai 4\n",
      "center 4\n",
      "dompet 4\n",
      "redeem 4\n",
      "merek 4\n",
      "gokil 4\n",
      "investasi 4\n",
      "screen 4\n",
      "markotop 4\n",
      "inti 4\n",
      "konek 4\n",
      "pengantarannya 4\n",
      "debit 4\n",
      "bentar 4\n",
      "ane 4\n",
      "mantapp 4\n",
      "nohp 4\n",
      "tb 4\n",
      "publik 4\n",
      "rapih 4\n",
      "bls 4\n",
      "cpt 4\n",
      "kecuali 4\n",
      "bln 4\n",
      "disni 4\n",
      "chrome 4\n",
      "pnya 4\n",
      "suami 4\n",
      "ngulang 4\n",
      "cansel 4\n",
      "hdiah 4\n",
      "apdet 4\n",
      "kuis 4\n",
      "jabodetabek 4\n",
      "timbang 4\n",
      "tokopediaaku 4\n",
      "hindar 4\n",
      "baja 4\n",
      "nyambung 4\n",
      "wahh 4\n",
      "bagusss 4\n",
      "mode 4\n",
      "emoney 4\n",
      "ditokped 4\n",
      "ktanya 4\n",
      "kluarga 4\n",
      "pdam 4\n",
      "platinum 4\n",
      "mna 4\n",
      "csnya 4\n",
      "ndk 4\n",
      "ngecek 4\n",
      "siang 4\n",
      "unik 4\n"
     ]
    }
   ],
   "source": [
    "# ternyata kata-kata yang tidak termasuk dalam lexicon, adalah kata yang tidak memiliki arti sentimen\n",
    "\n",
    "sort_orders = sorted(ns_words_list.items(), key=lambda x: x[1], reverse=True)\n",
    "sort_ordes = sort_orders[0:20]\n",
    "\n",
    "for i in sort_orders:\n",
    "  print(i[0], i[1])"
   ]
  },
  {
   "cell_type": "code",
   "execution_count": 48,
   "id": "3cdff298",
   "metadata": {},
   "outputs": [
    {
     "data": {
      "text/plain": [
       "1    9534\n",
       "2     686\n",
       "3      24\n",
       "4       2\n",
       "Name: number_of_words, dtype: int64"
      ]
     },
     "execution_count": 48,
     "metadata": {},
     "output_type": "execute_result"
    }
   ],
   "source": [
    "# sentimen\n",
    "\n",
    "lexicon['number_of_words'].value_counts()"
   ]
  },
  {
   "cell_type": "code",
   "execution_count": 49,
   "id": "1b3f8e86",
   "metadata": {},
   "outputs": [
    {
     "data": {
      "text/plain": [
       "False"
      ]
     },
     "execution_count": 49,
     "metadata": {},
     "output_type": "execute_result"
    }
   ],
   "source": [
    "'pekerti' in word_dict"
   ]
  },
  {
   "cell_type": "code",
   "execution_count": 50,
   "id": "68db66e3",
   "metadata": {},
   "outputs": [
    {
     "data": {
      "text/plain": [
       "True"
      ]
     },
     "execution_count": 50,
     "metadata": {},
     "output_type": "execute_result"
    }
   ],
   "source": [
    "'baik' in lexicon_word"
   ]
  },
  {
   "cell_type": "code",
   "execution_count": 51,
   "id": "597ab603",
   "metadata": {},
   "outputs": [],
   "source": [
    "# menghitung sentimen kata dengan mgnghitungnya menjadi lexicon\n",
    "\n",
    "sencol = []\n",
    "senrow = np.array([])\n",
    "nsen = 0\n",
    "factory = StemmerFactory()\n",
    "stemmer = factory.create_stemmer()\n",
    "sentiment_list = []\n",
    "\n",
    "# fungsi untuk menuliskan sentimen kata jika sudah ditemukan\n",
    "def found_word(ind, words, word, sen, sencol, sentiment, add):\n",
    "  \n",
    "  # jika sudah termasuk dalam bug of words matrix, maka naikkan (tambahkan) saja nilaiinya\n",
    "  if word in sencol:\n",
    "    sen[sencol.index(word)] += 1\n",
    "  \n",
    "  # jika tidak, maka tambahkan kata baru\n",
    "  else:\n",
    "    sencol.append(word)\n",
    "    sen.append(1)\n",
    "    add += 1\n",
    "  \n",
    "  if (words[ind-1] in negasi):\n",
    "    sentiment += -lexicon['weight'][lexicon_word.index(word)]\n",
    "  else:\n",
    "    sentiment += lexicon['weight'][lexicon_word.index(word)]\n",
    "\n",
    "  return sen, sencol, sentiment, add\n",
    "\n",
    "# memeriksa setiap kata, jika muncul dalam lexicon, dan kemudian menghitung sentimennya\n",
    "for i in range(len(df)):\n",
    "  nsen = senrow.shape[0]\n",
    "  words = word_tokenize(df['ulasan'][i])\n",
    "  sentiment = 0\n",
    "  add = 0\n",
    "  prev = [0 for ii in range (len(words))]\n",
    "  n_words = len(words)\n",
    "  \n",
    "  if len(sencol)>0:\n",
    "    sen = [0 for j in range(len(sencol))]\n",
    "  else:\n",
    "    sen = []\n",
    "\n",
    "  for word in words:\n",
    "    ind = words.index(word)\n",
    "    \n",
    "    # periksa apakah termasuk kedalam lexicon\n",
    "    if word in lexicon_word:\n",
    "      sen, sencol, sentiment, add = found_word(ind, words, word, sen, sencol, sentiment, add)\n",
    "    \n",
    "    # jika tidak, maka periksa kata dasarnya\n",
    "    else:  \n",
    "      kata_dasar = stemmer.stem(word)\n",
    "      \n",
    "      if kata_dasar in lexicon_word:\n",
    "        sen, sencol, sentiment, add = found_word(ind, words, kata_dasar, sen, sencol, sentiment, add)\n",
    "\n",
    "      # jika masih negatif, cocokkan kombinasi kata dengan kata yang berdekatan\n",
    "      elif (n_words>1):\n",
    "        if ind-1>-1:\n",
    "          back_1 = words[ind-1] + ' ' + word\n",
    "          if (back_1 in lexicon_word):\n",
    "            sen, sencol, sentiment, add = found_word(ind, words, back_1, sen, sencol, sentiment, add)\n",
    "          elif (ind-2>-1):\n",
    "            back_2 = words[ind-2] + ' ' + back_1\n",
    "            if back_2 in lexicon_word:\n",
    "              sen, sencol, sentiment, add = found_word(ind, words, back_2, sen, sencol, sentiment, add)\n",
    "  \n",
    "  # jika ada kata baru yang ditemukan, maka perluas matriks\n",
    "  if add > 0:\n",
    "    if i > 0:\n",
    "      if (nsen == 0):\n",
    "        senrow = np.zeros([i, add], dtype=int)\n",
    "      elif (i != nsen):\n",
    "        padding_h = np.zeros([nsen, add], dtype=int)\n",
    "        senrow = np.hstack((senrow, padding_h))\n",
    "        padding_v = np.zeros([(i-nsen), senrow.shape[1]], dtype=int)\n",
    "        senrow = np.vstack((senrow, padding_v))\n",
    "      else:\n",
    "        padding = np.zeros([nsen, add], dtype=int)\n",
    "        senrow = np.hstack((senrow, padding))\n",
    "      \n",
    "      senrow = np.vstack((senrow, sen))\n",
    "    \n",
    "    if i == 0:\n",
    "      senrow = np.array(sen).reshape(1, len(sen))\n",
    "\n",
    "  # jika tidak ada maka perbarui matriks lama\n",
    "  elif (nsen>0):\n",
    "    senrow = np.vstack((senrow, sen))\n",
    "\n",
    "  sentiment_list.append(sentiment)"
   ]
  },
  {
   "cell_type": "code",
   "execution_count": 52,
   "id": "634c8297",
   "metadata": {},
   "outputs": [],
   "source": [
    "# membangun kerangka data yang berisi sekumpulan kata dan sentimen yang telah dihitung sebelumnya\n",
    "\n",
    "sencol.append('sentiment')\n",
    "sentiment_array = np.array(sentiment_list).reshape(senrow.shape[0], 1)\n",
    "sentiment_data = np.hstack((senrow, sentiment_array))\n",
    "df_sen = pd.DataFrame(sentiment_data, columns = sencol)"
   ]
  },
  {
   "cell_type": "code",
   "execution_count": 53,
   "id": "2b1b9217",
   "metadata": {},
   "outputs": [
    {
     "data": {
      "text/html": [
       "<div>\n",
       "<style scoped>\n",
       "    .dataframe tbody tr th:only-of-type {\n",
       "        vertical-align: middle;\n",
       "    }\n",
       "\n",
       "    .dataframe tbody tr th {\n",
       "        vertical-align: top;\n",
       "    }\n",
       "\n",
       "    .dataframe thead th {\n",
       "        text-align: right;\n",
       "    }\n",
       "</style>\n",
       "<table border=\"1\" class=\"dataframe\">\n",
       "  <thead>\n",
       "    <tr style=\"text-align: right;\">\n",
       "      <th></th>\n",
       "      <th>percaya</th>\n",
       "      <th>banget</th>\n",
       "      <th>bantu</th>\n",
       "      <th>promo</th>\n",
       "      <th>gratis</th>\n",
       "      <th>kasih</th>\n",
       "      <th>transaksi</th>\n",
       "      <th>ramai</th>\n",
       "      <th>gabung</th>\n",
       "      <th>coba</th>\n",
       "      <th>...</th>\n",
       "      <th>inovasi</th>\n",
       "      <th>perban</th>\n",
       "      <th>musik</th>\n",
       "      <th>aliansi</th>\n",
       "      <th>enjoy</th>\n",
       "      <th>lampu</th>\n",
       "      <th>drastis</th>\n",
       "      <th>meleset</th>\n",
       "      <th>pandai</th>\n",
       "      <th>sentiment</th>\n",
       "    </tr>\n",
       "  </thead>\n",
       "  <tbody>\n",
       "    <tr>\n",
       "      <th>0</th>\n",
       "      <td>1</td>\n",
       "      <td>1</td>\n",
       "      <td>0</td>\n",
       "      <td>0</td>\n",
       "      <td>0</td>\n",
       "      <td>0</td>\n",
       "      <td>0</td>\n",
       "      <td>0</td>\n",
       "      <td>0</td>\n",
       "      <td>0</td>\n",
       "      <td>...</td>\n",
       "      <td>0</td>\n",
       "      <td>0</td>\n",
       "      <td>0</td>\n",
       "      <td>0</td>\n",
       "      <td>0</td>\n",
       "      <td>0</td>\n",
       "      <td>0</td>\n",
       "      <td>0</td>\n",
       "      <td>0</td>\n",
       "      <td>3</td>\n",
       "    </tr>\n",
       "    <tr>\n",
       "      <th>1</th>\n",
       "      <td>0</td>\n",
       "      <td>0</td>\n",
       "      <td>1</td>\n",
       "      <td>1</td>\n",
       "      <td>1</td>\n",
       "      <td>2</td>\n",
       "      <td>0</td>\n",
       "      <td>0</td>\n",
       "      <td>0</td>\n",
       "      <td>0</td>\n",
       "      <td>...</td>\n",
       "      <td>0</td>\n",
       "      <td>0</td>\n",
       "      <td>0</td>\n",
       "      <td>0</td>\n",
       "      <td>0</td>\n",
       "      <td>0</td>\n",
       "      <td>0</td>\n",
       "      <td>0</td>\n",
       "      <td>0</td>\n",
       "      <td>14</td>\n",
       "    </tr>\n",
       "    <tr>\n",
       "      <th>2</th>\n",
       "      <td>0</td>\n",
       "      <td>0</td>\n",
       "      <td>0</td>\n",
       "      <td>3</td>\n",
       "      <td>0</td>\n",
       "      <td>0</td>\n",
       "      <td>1</td>\n",
       "      <td>1</td>\n",
       "      <td>1</td>\n",
       "      <td>1</td>\n",
       "      <td>...</td>\n",
       "      <td>0</td>\n",
       "      <td>0</td>\n",
       "      <td>0</td>\n",
       "      <td>0</td>\n",
       "      <td>0</td>\n",
       "      <td>0</td>\n",
       "      <td>0</td>\n",
       "      <td>0</td>\n",
       "      <td>0</td>\n",
       "      <td>11</td>\n",
       "    </tr>\n",
       "    <tr>\n",
       "      <th>3</th>\n",
       "      <td>0</td>\n",
       "      <td>0</td>\n",
       "      <td>0</td>\n",
       "      <td>0</td>\n",
       "      <td>0</td>\n",
       "      <td>0</td>\n",
       "      <td>0</td>\n",
       "      <td>0</td>\n",
       "      <td>0</td>\n",
       "      <td>0</td>\n",
       "      <td>...</td>\n",
       "      <td>0</td>\n",
       "      <td>0</td>\n",
       "      <td>0</td>\n",
       "      <td>0</td>\n",
       "      <td>0</td>\n",
       "      <td>0</td>\n",
       "      <td>0</td>\n",
       "      <td>0</td>\n",
       "      <td>0</td>\n",
       "      <td>8</td>\n",
       "    </tr>\n",
       "    <tr>\n",
       "      <th>4</th>\n",
       "      <td>0</td>\n",
       "      <td>0</td>\n",
       "      <td>0</td>\n",
       "      <td>0</td>\n",
       "      <td>0</td>\n",
       "      <td>0</td>\n",
       "      <td>0</td>\n",
       "      <td>0</td>\n",
       "      <td>0</td>\n",
       "      <td>0</td>\n",
       "      <td>...</td>\n",
       "      <td>0</td>\n",
       "      <td>0</td>\n",
       "      <td>0</td>\n",
       "      <td>0</td>\n",
       "      <td>0</td>\n",
       "      <td>0</td>\n",
       "      <td>0</td>\n",
       "      <td>0</td>\n",
       "      <td>0</td>\n",
       "      <td>9</td>\n",
       "    </tr>\n",
       "  </tbody>\n",
       "</table>\n",
       "<p>5 rows × 1008 columns</p>\n",
       "</div>"
      ],
      "text/plain": [
       "   percaya  banget  bantu  promo  gratis  kasih  transaksi  ramai  gabung  \\\n",
       "0        1       1      0      0       0      0          0      0       0   \n",
       "1        0       0      1      1       1      2          0      0       0   \n",
       "2        0       0      0      3       0      0          1      1       1   \n",
       "3        0       0      0      0       0      0          0      0       0   \n",
       "4        0       0      0      0       0      0          0      0       0   \n",
       "\n",
       "   coba  ...  inovasi  perban  musik  aliansi  enjoy  lampu  drastis  meleset  \\\n",
       "0     0  ...        0       0      0        0      0      0        0        0   \n",
       "1     0  ...        0       0      0        0      0      0        0        0   \n",
       "2     1  ...        0       0      0        0      0      0        0        0   \n",
       "3     0  ...        0       0      0        0      0      0        0        0   \n",
       "4     0  ...        0       0      0        0      0      0        0        0   \n",
       "\n",
       "   pandai  sentiment  \n",
       "0       0          3  \n",
       "1       0         14  \n",
       "2       0         11  \n",
       "3       0          8  \n",
       "4       0          9  \n",
       "\n",
       "[5 rows x 1008 columns]"
      ]
     },
     "execution_count": 53,
     "metadata": {},
     "output_type": "execute_result"
    }
   ],
   "source": [
    "df_sen.head(5)"
   ]
  },
  {
   "cell_type": "code",
   "execution_count": 54,
   "id": "4b01ecc9",
   "metadata": {},
   "outputs": [],
   "source": [
    "df_sen.to_csv('hasil_data_sentimen.csv')"
   ]
  },
  {
   "cell_type": "code",
   "execution_count": 55,
   "id": "2da640f3",
   "metadata": {},
   "outputs": [],
   "source": [
    "# melihat sentimen dari data original\n",
    "\n",
    "res_df = pd.DataFrame([])\n",
    "res_df['penilaian'] = df['penilaian'].copy()\n",
    "res_df['nama'] = df['nama'].copy()\n",
    "res_df['ulasan'] = df['ulasan'].copy()\n",
    "res_df['sentimen'] = df_sen['sentiment'].copy()"
   ]
  },
  {
   "cell_type": "code",
   "execution_count": 56,
   "id": "73db85f6",
   "metadata": {},
   "outputs": [
    {
     "data": {
      "text/html": [
       "<div>\n",
       "<style scoped>\n",
       "    .dataframe tbody tr th:only-of-type {\n",
       "        vertical-align: middle;\n",
       "    }\n",
       "\n",
       "    .dataframe tbody tr th {\n",
       "        vertical-align: top;\n",
       "    }\n",
       "\n",
       "    .dataframe thead th {\n",
       "        text-align: right;\n",
       "    }\n",
       "</style>\n",
       "<table border=\"1\" class=\"dataframe\">\n",
       "  <thead>\n",
       "    <tr style=\"text-align: right;\">\n",
       "      <th></th>\n",
       "      <th>penilaian</th>\n",
       "      <th>nama</th>\n",
       "      <th>ulasan</th>\n",
       "      <th>sentimen</th>\n",
       "    </tr>\n",
       "  </thead>\n",
       "  <tbody>\n",
       "    <tr>\n",
       "      <th>0</th>\n",
       "      <td>5</td>\n",
       "      <td>Ardison Samsung</td>\n",
       "      <td>percaya keren banget</td>\n",
       "      <td>3</td>\n",
       "    </tr>\n",
       "    <tr>\n",
       "      <th>1</th>\n",
       "      <td>5</td>\n",
       "      <td>samsudin elfani</td>\n",
       "      <td>aman emang bantu promo ongkir gratis kasih kasih</td>\n",
       "      <td>14</td>\n",
       "    </tr>\n",
       "    <tr>\n",
       "      <th>2</th>\n",
       "      <td>1</td>\n",
       "      <td>Dhika Rahmawati</td>\n",
       "      <td>akun transaksi ramai gabung unduh promo coba b...</td>\n",
       "      <td>11</td>\n",
       "    </tr>\n",
       "    <tr>\n",
       "      <th>3</th>\n",
       "      <td>3</td>\n",
       "      <td>Reza Fisabilillah</td>\n",
       "      <td>kemarin gambar buka buka gara gara sinyal down...</td>\n",
       "      <td>8</td>\n",
       "    </tr>\n",
       "    <tr>\n",
       "      <th>4</th>\n",
       "      <td>2</td>\n",
       "      <td>Haviza Yeni official</td>\n",
       "      <td>beli bayar tolong solusi</td>\n",
       "      <td>9</td>\n",
       "    </tr>\n",
       "  </tbody>\n",
       "</table>\n",
       "</div>"
      ],
      "text/plain": [
       "   penilaian                  nama  \\\n",
       "0          5       Ardison Samsung   \n",
       "1          5       samsudin elfani   \n",
       "2          1       Dhika Rahmawati   \n",
       "3          3     Reza Fisabilillah   \n",
       "4          2  Haviza Yeni official   \n",
       "\n",
       "                                              ulasan  sentimen  \n",
       "0                               percaya keren banget         3  \n",
       "1   aman emang bantu promo ongkir gratis kasih kasih        14  \n",
       "2  akun transaksi ramai gabung unduh promo coba b...        11  \n",
       "3  kemarin gambar buka buka gara gara sinyal down...         8  \n",
       "4                           beli bayar tolong solusi         9  "
      ]
     },
     "execution_count": 56,
     "metadata": {},
     "output_type": "execute_result"
    }
   ],
   "source": [
    "res_df.head()"
   ]
  },
  {
   "cell_type": "code",
   "execution_count": 57,
   "id": "bb5e3cf0",
   "metadata": {},
   "outputs": [],
   "source": [
    "res_df.to_csv('hasil sentimen tanpa label.csv')"
   ]
  },
  {
   "cell_type": "code",
   "execution_count": 58,
   "id": "aa660535",
   "metadata": {},
   "outputs": [
    {
     "data": {
      "text/html": [
       "<div>\n",
       "<style scoped>\n",
       "    .dataframe tbody tr th:only-of-type {\n",
       "        vertical-align: middle;\n",
       "    }\n",
       "\n",
       "    .dataframe tbody tr th {\n",
       "        vertical-align: top;\n",
       "    }\n",
       "\n",
       "    .dataframe thead th {\n",
       "        text-align: right;\n",
       "    }\n",
       "</style>\n",
       "<table border=\"1\" class=\"dataframe\">\n",
       "  <thead>\n",
       "    <tr style=\"text-align: right;\">\n",
       "      <th></th>\n",
       "      <th>penilaian</th>\n",
       "      <th>nama</th>\n",
       "      <th>ulasan</th>\n",
       "      <th>label</th>\n",
       "    </tr>\n",
       "  </thead>\n",
       "  <tbody>\n",
       "    <tr>\n",
       "      <th>0</th>\n",
       "      <td>5</td>\n",
       "      <td>Ardison Samsung</td>\n",
       "      <td>percaya keren banget</td>\n",
       "      <td>1</td>\n",
       "    </tr>\n",
       "    <tr>\n",
       "      <th>1</th>\n",
       "      <td>5</td>\n",
       "      <td>samsudin elfani</td>\n",
       "      <td>aman emang bantu promo ongkir gratis kasih kasih</td>\n",
       "      <td>1</td>\n",
       "    </tr>\n",
       "    <tr>\n",
       "      <th>2</th>\n",
       "      <td>1</td>\n",
       "      <td>Dhika Rahmawati</td>\n",
       "      <td>akun transaksi ramai gabung unduh promo coba b...</td>\n",
       "      <td>1</td>\n",
       "    </tr>\n",
       "    <tr>\n",
       "      <th>3</th>\n",
       "      <td>3</td>\n",
       "      <td>Reza Fisabilillah</td>\n",
       "      <td>kemarin gambar buka buka gara gara sinyal down...</td>\n",
       "      <td>1</td>\n",
       "    </tr>\n",
       "    <tr>\n",
       "      <th>4</th>\n",
       "      <td>2</td>\n",
       "      <td>Haviza Yeni official</td>\n",
       "      <td>beli bayar tolong solusi</td>\n",
       "      <td>1</td>\n",
       "    </tr>\n",
       "  </tbody>\n",
       "</table>\n",
       "</div>"
      ],
      "text/plain": [
       "   penilaian                  nama  \\\n",
       "0          5       Ardison Samsung   \n",
       "1          5       samsudin elfani   \n",
       "2          1       Dhika Rahmawati   \n",
       "3          3     Reza Fisabilillah   \n",
       "4          2  Haviza Yeni official   \n",
       "\n",
       "                                              ulasan  label  \n",
       "0                               percaya keren banget      1  \n",
       "1   aman emang bantu promo ongkir gratis kasih kasih      1  \n",
       "2  akun transaksi ramai gabung unduh promo coba b...      1  \n",
       "3  kemarin gambar buka buka gara gara sinyal down...      1  \n",
       "4                           beli bayar tolong solusi      1  "
      ]
     },
     "execution_count": 58,
     "metadata": {},
     "output_type": "execute_result"
    }
   ],
   "source": [
    "# mengubah penilaian menjadi label\n",
    "# pelabelan data, data akan berlebel negatif(0) jika nilai compound <0,0\n",
    "# dan akan berlebel positif(1) jika nilai compound >= 0,0\n",
    "\n",
    "label = []\n",
    "for index, row in res_df.iterrows():\n",
    "  if row[\"sentimen\"] >= 0:\n",
    "    label.append(1)\n",
    "  else:\n",
    "    label.append(0)\n",
    "\n",
    "res_df[\"label\"] = label\n",
    "res_df = res_df.drop(columns=['sentimen'])\n",
    "res_df.head()"
   ]
  },
  {
   "cell_type": "code",
   "execution_count": 59,
   "id": "6ca08967",
   "metadata": {},
   "outputs": [],
   "source": [
    "res_df.to_csv('hasil sentimen dengan label.csv')"
   ]
  },
  {
   "cell_type": "code",
   "execution_count": 60,
   "id": "33c9ddcb",
   "metadata": {},
   "outputs": [
    {
     "data": {
      "text/plain": [
       "1    3662\n",
       "0     828\n",
       "Name: label, dtype: int64"
      ]
     },
     "execution_count": 60,
     "metadata": {},
     "output_type": "execute_result"
    }
   ],
   "source": [
    "# melihat banyak ulasan dari tiap label\n",
    "res_df['label'].value_counts()"
   ]
  },
  {
   "cell_type": "markdown",
   "id": "4c00a135",
   "metadata": {},
   "source": [
    "# **METODE KLASIFIKASI**"
   ]
  },
  {
   "cell_type": "code",
   "execution_count": 61,
   "id": "160c10e0",
   "metadata": {},
   "outputs": [
    {
     "data": {
      "text/html": [
       "<div>\n",
       "<style scoped>\n",
       "    .dataframe tbody tr th:only-of-type {\n",
       "        vertical-align: middle;\n",
       "    }\n",
       "\n",
       "    .dataframe tbody tr th {\n",
       "        vertical-align: top;\n",
       "    }\n",
       "\n",
       "    .dataframe thead th {\n",
       "        text-align: right;\n",
       "    }\n",
       "</style>\n",
       "<table border=\"1\" class=\"dataframe\">\n",
       "  <thead>\n",
       "    <tr style=\"text-align: right;\">\n",
       "      <th></th>\n",
       "      <th>nama</th>\n",
       "      <th>ulasan</th>\n",
       "      <th>label</th>\n",
       "    </tr>\n",
       "  </thead>\n",
       "  <tbody>\n",
       "    <tr>\n",
       "      <th>0</th>\n",
       "      <td>Ardison Samsung</td>\n",
       "      <td>percaya keren banget</td>\n",
       "      <td>1</td>\n",
       "    </tr>\n",
       "    <tr>\n",
       "      <th>1</th>\n",
       "      <td>samsudin elfani</td>\n",
       "      <td>aman emang bantu promo ongkir gratis kasih kasih</td>\n",
       "      <td>1</td>\n",
       "    </tr>\n",
       "    <tr>\n",
       "      <th>2</th>\n",
       "      <td>Dhika Rahmawati</td>\n",
       "      <td>akun transaksi ramai gabung unduh promo coba b...</td>\n",
       "      <td>1</td>\n",
       "    </tr>\n",
       "    <tr>\n",
       "      <th>3</th>\n",
       "      <td>Reza Fisabilillah</td>\n",
       "      <td>kemarin gambar buka buka gara gara sinyal down...</td>\n",
       "      <td>1</td>\n",
       "    </tr>\n",
       "    <tr>\n",
       "      <th>4</th>\n",
       "      <td>Haviza Yeni official</td>\n",
       "      <td>beli bayar tolong solusi</td>\n",
       "      <td>1</td>\n",
       "    </tr>\n",
       "  </tbody>\n",
       "</table>\n",
       "</div>"
      ],
      "text/plain": [
       "                   nama                                             ulasan  \\\n",
       "0       Ardison Samsung                               percaya keren banget   \n",
       "1       samsudin elfani   aman emang bantu promo ongkir gratis kasih kasih   \n",
       "2       Dhika Rahmawati  akun transaksi ramai gabung unduh promo coba b...   \n",
       "3     Reza Fisabilillah  kemarin gambar buka buka gara gara sinyal down...   \n",
       "4  Haviza Yeni official                           beli bayar tolong solusi   \n",
       "\n",
       "   label  \n",
       "0      1  \n",
       "1      1  \n",
       "2      1  \n",
       "3      1  \n",
       "4      1  "
      ]
     },
     "execution_count": 61,
     "metadata": {},
     "output_type": "execute_result"
    }
   ],
   "source": [
    "klasifikasiTokopedia = res_df\n",
    "klasifikasiTokopedia = res_df.drop(columns=['penilaian'])\n",
    "klasifikasiTokopedia.head()"
   ]
  },
  {
   "cell_type": "code",
   "execution_count": 62,
   "id": "d66c3517",
   "metadata": {},
   "outputs": [],
   "source": [
    "from sklearn.feature_extraction.text import TfidfVectorizer\n",
    "from sklearn import model_selection, svm\n",
    "from sklearn.metrics import accuracy_score\n",
    "from sklearn import preprocessing\n",
    "from sklearn.preprocessing import LabelEncoder"
   ]
  },
  {
   "cell_type": "code",
   "execution_count": 63,
   "id": "01cf2a61",
   "metadata": {},
   "outputs": [],
   "source": [
    "# data training & data testing\n",
    "\n",
    "Train_X, Test_X, Train_Y, Test_Y = model_selection.train_test_split(klasifikasiTokopedia['ulasan'], klasifikasiTokopedia['label'], test_size = 0.20, random_state = 0)\n",
    "\n",
    "Encoder = LabelEncoder()\n",
    "Train_Y = Encoder.fit_transform(Train_Y)\n",
    "Test_Y = Encoder.fit_transform(Test_Y)\n",
    "\n",
    "Tfidf_vect = TfidfVectorizer(max_features=10000)\n",
    "Tfidf_vect.fit(klasifikasiTokopedia['ulasan'])\n",
    "Train_X_Tfidf = Tfidf_vect.transform(Train_X)\n",
    "Test_X_Tfidf = Tfidf_vect.transform(Test_X)"
   ]
  },
  {
   "cell_type": "code",
   "execution_count": 64,
   "id": "476b7aa2",
   "metadata": {},
   "outputs": [
    {
     "data": {
      "text/plain": [
       "3592"
      ]
     },
     "execution_count": 64,
     "metadata": {},
     "output_type": "execute_result"
    }
   ],
   "source": [
    "len(Train_X)"
   ]
  },
  {
   "cell_type": "code",
   "execution_count": 65,
   "id": "e0942898",
   "metadata": {},
   "outputs": [
    {
     "data": {
      "text/plain": [
       "898"
      ]
     },
     "execution_count": 65,
     "metadata": {},
     "output_type": "execute_result"
    }
   ],
   "source": [
    "len(Test_X)"
   ]
  },
  {
   "cell_type": "markdown",
   "id": "bf1d96f4",
   "metadata": {},
   "source": [
    "**SUPPORT VECTOR MACHINE**"
   ]
  },
  {
   "cell_type": "code",
   "execution_count": 66,
   "id": "9944c4f3",
   "metadata": {},
   "outputs": [
    {
     "name": "stdout",
     "output_type": "stream",
     "text": [
      "SVM Accurary Score -->  88.64142538975501\n"
     ]
    }
   ],
   "source": [
    "# Linear\n",
    "SVM = svm.SVC(C=1.0, kernel='linear', degree=3, gamma='scale')\n",
    "SVM.fit(Train_X_Tfidf, Train_Y)\n",
    "\n",
    "predictions_SVM = SVM.predict(Test_X_Tfidf)\n",
    "\n",
    "print(\"SVM Accurary Score --> \", accuracy_score(predictions_SVM, Test_Y) * 100)"
   ]
  },
  {
   "cell_type": "code",
   "execution_count": 67,
   "id": "88cc2a8a",
   "metadata": {},
   "outputs": [
    {
     "name": "stdout",
     "output_type": "stream",
     "text": [
      "SVM Accurary Score -->  81.9599109131403\n"
     ]
    }
   ],
   "source": [
    "# Polynomial\n",
    "SVM_polynomial = svm.SVC(C=1.0, kernel='poly', degree=3, gamma='scale')\n",
    "SVM_polynomial.fit(Train_X_Tfidf, Train_Y)\n",
    "\n",
    "predictions_SVM_polynomial = SVM_polynomial.predict(Test_X_Tfidf)\n",
    "\n",
    "print(\"SVM Accurary Score --> \", accuracy_score(predictions_SVM_polynomial, Test_Y) * 100)"
   ]
  },
  {
   "cell_type": "code",
   "execution_count": 68,
   "id": "0273708e",
   "metadata": {},
   "outputs": [
    {
     "name": "stdout",
     "output_type": "stream",
     "text": [
      "SVM Accurary Score -->  85.6347438752784\n"
     ]
    }
   ],
   "source": [
    "# Radial\n",
    "SVM_radial = svm.SVC(C=1.0, kernel='rbf', degree=3, gamma='scale')\n",
    "SVM_radial.fit(Train_X_Tfidf, Train_Y)\n",
    "\n",
    "predictions_SVM_radial = SVM_radial.predict(Test_X_Tfidf)\n",
    "\n",
    "print(\"SVM Accurary Score --> \", accuracy_score(predictions_SVM_radial, Test_Y) * 100)"
   ]
  },
  {
   "cell_type": "code",
   "execution_count": 69,
   "id": "0ce9c028",
   "metadata": {},
   "outputs": [
    {
     "name": "stdout",
     "output_type": "stream",
     "text": [
      "SVM Accurary Score -->  88.41870824053451\n"
     ]
    }
   ],
   "source": [
    "# Sigmoid\n",
    "SVM_sigmoid = svm.SVC(C=1.0, kernel='sigmoid', degree=3, gamma='scale')\n",
    "SVM_sigmoid.fit(Train_X_Tfidf, Train_Y)\n",
    "\n",
    "predictions_SVM_sigmoid = SVM_sigmoid.predict(Test_X_Tfidf)\n",
    "\n",
    "print(\"SVM Accurary Score --> \", accuracy_score(predictions_SVM_sigmoid, Test_Y) * 100)"
   ]
  },
  {
   "cell_type": "markdown",
   "id": "8025ce25",
   "metadata": {},
   "source": [
    "**CONFUSION MATRIX**"
   ]
  },
  {
   "cell_type": "code",
   "execution_count": 70,
   "id": "b12f73bf",
   "metadata": {},
   "outputs": [
    {
     "data": {
      "image/png": "[encoded data removed]",
      "text/plain": [
       "<Figure size 432x288 with 2 Axes>"
      ]
     },
     "metadata": {
      "needs_background": "light"
     },
     "output_type": "display_data"
    }
   ],
   "source": [
    "# confusion matrix linear\n",
    "\n",
    "from sklearn.metrics import confusion_matrix\n",
    "import seaborn as sns\n",
    "\n",
    "conf_mat = confusion_matrix(Test_Y, predictions_SVM)\n",
    "class_label = [\"negative\", \"positive\"]\n",
    "test = pd.DataFrame(conf_mat, index = class_label, columns = class_label)\n",
    "sns.heatmap(test, annot = True, fmt=\"d\")\n",
    "plt.title(\"Confusion Matrix For Test Data\")\n",
    "plt.xlabel(\"Predicted Label\")\n",
    "plt.ylabel(\"True Label\")\n",
    "plt.show()"
   ]
  },
  {
   "cell_type": "code",
   "execution_count": 71,
   "id": "8d27e4fe",
   "metadata": {},
   "outputs": [
    {
     "data": {
      "image/png": "[encoded data removed]",
      "text/plain": [
       "<Figure size 432x288 with 2 Axes>"
      ]
     },
     "metadata": {
      "needs_background": "light"
     },
     "output_type": "display_data"
    }
   ],
   "source": [
    "# confusion matrix polynomial\n",
    "\n",
    "from sklearn.metrics import confusion_matrix\n",
    "import seaborn as sns\n",
    "\n",
    "conf_mat = confusion_matrix(Test_Y, predictions_SVM_polynomial)\n",
    "class_label = [\"negative\", \"positive\"]\n",
    "test = pd.DataFrame(conf_mat, index = class_label, columns = class_label)\n",
    "sns.heatmap(test, annot = True, fmt=\"d\")\n",
    "plt.title(\"Confusion Matrix For Test Data\")\n",
    "plt.xlabel(\"Predicted Label\")\n",
    "plt.ylabel(\"True Label\")\n",
    "plt.show()"
   ]
  },
  {
   "cell_type": "code",
   "execution_count": 72,
   "id": "24152eae",
   "metadata": {},
   "outputs": [
    {
     "data": {
      "image/png": "[encoded data removed]",
      "text/plain": [
       "<Figure size 432x288 with 2 Axes>"
      ]
     },
     "metadata": {
      "needs_background": "light"
     },
     "output_type": "display_data"
    }
   ],
   "source": [
    "# confusion matrix radial\n",
    "\n",
    "from sklearn.metrics import confusion_matrix\n",
    "import seaborn as sns\n",
    "\n",
    "conf_mat = confusion_matrix(Test_Y, predictions_SVM_radial)\n",
    "class_label = [\"negative\", \"positive\"]\n",
    "test = pd.DataFrame(conf_mat, index = class_label, columns = class_label)\n",
    "sns.heatmap(test, annot = True, fmt=\"d\")\n",
    "plt.title(\"Confusion Matrix For Test Data\")\n",
    "plt.xlabel(\"Predicted Label\")\n",
    "plt.ylabel(\"True Label\")\n",
    "plt.show()"
   ]
  },
  {
   "cell_type": "code",
   "execution_count": 73,
   "id": "36b77408",
   "metadata": {},
   "outputs": [
    {
     "data": {
      "image/png": "[encoded data removed]",
      "text/plain": [
       "<Figure size 432x288 with 2 Axes>"
      ]
     },
     "metadata": {
      "needs_background": "light"
     },
     "output_type": "display_data"
    }
   ],
   "source": [
    "# confusion matrix sigmoid\n",
    "\n",
    "from sklearn.metrics import confusion_matrix\n",
    "import seaborn as sns\n",
    "\n",
    "conf_mat = confusion_matrix(Test_Y, predictions_SVM_sigmoid)\n",
    "class_label = [\"negative\", \"positive\"]\n",
    "test = pd.DataFrame(conf_mat, index = class_label, columns = class_label)\n",
    "sns.heatmap(test, annot = True, fmt=\"d\")\n",
    "plt.title(\"Confusion Matrix For Test Data\")\n",
    "plt.xlabel(\"Predicted Label\")\n",
    "plt.ylabel(\"True Label\")\n",
    "plt.show()"
   ]
  },
  {
   "cell_type": "markdown",
   "id": "0b6e2738",
   "metadata": {},
   "source": [
    "**VISUALISASI SENTIMEN NEGATIF**"
   ]
  },
  {
   "cell_type": "code",
   "execution_count": 74,
   "id": "9ff868ff",
   "metadata": {},
   "outputs": [
    {
     "data": {
      "text/html": [
       "<div>\n",
       "<style scoped>\n",
       "    .dataframe tbody tr th:only-of-type {\n",
       "        vertical-align: middle;\n",
       "    }\n",
       "\n",
       "    .dataframe tbody tr th {\n",
       "        vertical-align: top;\n",
       "    }\n",
       "\n",
       "    .dataframe thead th {\n",
       "        text-align: right;\n",
       "    }\n",
       "</style>\n",
       "<table border=\"1\" class=\"dataframe\">\n",
       "  <thead>\n",
       "    <tr style=\"text-align: right;\">\n",
       "      <th></th>\n",
       "      <th>nama</th>\n",
       "      <th>ulasan</th>\n",
       "      <th>label</th>\n",
       "    </tr>\n",
       "  </thead>\n",
       "  <tbody>\n",
       "    <tr>\n",
       "      <th>9</th>\n",
       "      <td>UTUT SUPRATMANTO</td>\n",
       "      <td>ngalamin susah login transaksi hapus instal ul...</td>\n",
       "      <td>0</td>\n",
       "    </tr>\n",
       "    <tr>\n",
       "      <th>13</th>\n",
       "      <td>Sope Cies</td>\n",
       "      <td>vocer dipakaiehh pesan batal prank vocher cek ...</td>\n",
       "      <td>0</td>\n",
       "    </tr>\n",
       "    <tr>\n",
       "      <th>18</th>\n",
       "      <td>Brigitta Christa</td>\n",
       "      <td>coba sihh bisaa pake nomor beda daftar</td>\n",
       "      <td>0</td>\n",
       "    </tr>\n",
       "    <tr>\n",
       "      <th>21</th>\n",
       "      <td>khena</td>\n",
       "      <td>wib wib coba cek tanggal</td>\n",
       "      <td>0</td>\n",
       "    </tr>\n",
       "    <tr>\n",
       "      <th>31</th>\n",
       "      <td>Nengsih Aulia Devi</td>\n",
       "      <td>pakai udh vocher mlah batal sistem aneh unfoll...</td>\n",
       "      <td>0</td>\n",
       "    </tr>\n",
       "  </tbody>\n",
       "</table>\n",
       "</div>"
      ],
      "text/plain": [
       "                  nama                                             ulasan  \\\n",
       "9     UTUT SUPRATMANTO  ngalamin susah login transaksi hapus instal ul...   \n",
       "13           Sope Cies  vocer dipakaiehh pesan batal prank vocher cek ...   \n",
       "18    Brigitta Christa             coba sihh bisaa pake nomor beda daftar   \n",
       "21               khena                           wib wib coba cek tanggal   \n",
       "31  Nengsih Aulia Devi  pakai udh vocher mlah batal sistem aneh unfoll...   \n",
       "\n",
       "    label  \n",
       "9       0  \n",
       "13      0  \n",
       "18      0  \n",
       "21      0  \n",
       "31      0  "
      ]
     },
     "execution_count": 74,
     "metadata": {},
     "output_type": "execute_result"
    }
   ],
   "source": [
    "TokopediaNeg = klasifikasiTokopedia.loc[klasifikasiTokopedia['label'] == 0]\n",
    "TokopediaNeg.head()"
   ]
  },
  {
   "cell_type": "code",
   "execution_count": 75,
   "id": "0d991763",
   "metadata": {},
   "outputs": [],
   "source": [
    "TokopediaNeg.to_csv('hasil sentimen negatif.csv')"
   ]
  },
  {
   "cell_type": "code",
   "execution_count": 76,
   "id": "48477380",
   "metadata": {},
   "outputs": [],
   "source": [
    "import difflib\n",
    "\n",
    "# body_list = df['body'].tolist()\n",
    "neg_text_list = TokopediaNeg['ulasan'].tolist()\n",
    "\n",
    "# body = body_list\n",
    "reviews_neg = neg_text_list"
   ]
  },
  {
   "cell_type": "code",
   "execution_count": 77,
   "id": "83a2bdbc",
   "metadata": {},
   "outputs": [
    {
     "name": "stdout",
     "output_type": "stream",
     "text": [
      "758\n"
     ]
    }
   ],
   "source": [
    "# stopword\n",
    "\n",
    "from nltk.corpus import stopwords\n",
    "indonesian_stopwords = stopwords.words('indonesian')\n",
    "print(len(indonesian_stopwords))\n",
    "text_neg = str(neg_text_list)"
   ]
  },
  {
   "cell_type": "code",
   "execution_count": 78,
   "id": "61c6c080",
   "metadata": {},
   "outputs": [],
   "source": [
    "# membuat potongan kata (token)\n",
    "\n",
    "from nltk.tokenize import word_tokenize\n",
    "tokens_neg = word_tokenize(text_neg)"
   ]
  },
  {
   "cell_type": "code",
   "execution_count": 79,
   "id": "8d8e7fb2",
   "metadata": {},
   "outputs": [
    {
     "name": "stderr",
     "output_type": "stream",
     "text": [
      "[nltk_data] Downloading package omw-1.4 to C:\\Users\\Ramdani\n",
      "[nltk_data]     Adan\\AppData\\Roaming\\nltk_data...\n",
      "[nltk_data]   Package omw-1.4 is already up-to-date!\n",
      "[nltk_data] Downloading package wordnet to C:\\Users\\Ramdani\n",
      "[nltk_data]     Adan\\AppData\\Roaming\\nltk_data...\n",
      "[nltk_data]   Package wordnet is already up-to-date!\n"
     ]
    }
   ],
   "source": [
    "# filter out stop word\n",
    "\n",
    "import nltk\n",
    "from nltk.corpus import stopwords\n",
    "nltk.download('omw-1.4')\n",
    "nltk.download('wordnet')\n",
    "\n",
    "stop_words = set(stopwords.words('indonesian'))\n",
    "negative = [w for w in tokens_neg if not w in stop_words]\n",
    "extend = 'a'\n",
    "negative = [w for w in negative if not w in extend]\n",
    "\n",
    "# negative = [nltk.stem.PorterStemmer().stem(word) for word in negative]\n",
    "negative = [nltk.stem.WordNetLemmatizer().lemmatize(word) for word in negative]"
   ]
  },
  {
   "cell_type": "code",
   "execution_count": 80,
   "id": "a0782812",
   "metadata": {},
   "outputs": [],
   "source": [
    "import string\n",
    "table = str.maketrans('', '', string.punctuation)\n",
    "strippedneg = [w.translate(table) for w in negative]"
   ]
  },
  {
   "cell_type": "code",
   "execution_count": 81,
   "id": "4c4fe0d0",
   "metadata": {},
   "outputs": [
    {
     "data": {
      "image/png": "[encoded data removed]",
      "text/plain": [
       "<Figure size 1800x504 with 1 Axes>"
      ]
     },
     "metadata": {
      "needs_background": "light"
     },
     "output_type": "display_data"
    }
   ],
   "source": [
    "# memplot kata-kata yang paling sering muncul\n",
    "\n",
    "freq_words(strippedneg, 15)"
   ]
  },
  {
   "cell_type": "code",
   "execution_count": 82,
   "id": "c8c3071d",
   "metadata": {},
   "outputs": [
    {
     "data": {
      "image/png": "[encoded data removed]",
      "text/plain": [
       "<Figure size 1080x576 with 1 Axes>"
      ]
     },
     "metadata": {
      "needs_background": "light"
     },
     "output_type": "display_data"
    }
   ],
   "source": [
    "# wordcloud negatif\n",
    "\n",
    "from wordcloud import WordCloud\n",
    "from wordcloud import ImageColorGenerator\n",
    "\n",
    "all_text_negative = ' '.join(str(word) for word in strippedneg)\n",
    "wordcloud = WordCloud(width = 700, height = 700, max_font_size=260, background_color='white', mode='RGBA').generate(all_text_negative)\n",
    "plt.figure(figsize=(15, 8))\n",
    "plt.imshow(wordcloud, interpolation='bilinear')\n",
    "plt.axis(\"off\")\n",
    "plt.margins(x=0, y=0)\n",
    "plt.show()"
   ]
  },
  {
   "cell_type": "markdown",
   "id": "529d3e77",
   "metadata": {},
   "source": [
    "**VISUALISASI SENTIMEN POSITIVE**"
   ]
  },
  {
   "cell_type": "code",
   "execution_count": 83,
   "id": "b4f02aa1",
   "metadata": {},
   "outputs": [
    {
     "data": {
      "text/html": [
       "<div>\n",
       "<style scoped>\n",
       "    .dataframe tbody tr th:only-of-type {\n",
       "        vertical-align: middle;\n",
       "    }\n",
       "\n",
       "    .dataframe tbody tr th {\n",
       "        vertical-align: top;\n",
       "    }\n",
       "\n",
       "    .dataframe thead th {\n",
       "        text-align: right;\n",
       "    }\n",
       "</style>\n",
       "<table border=\"1\" class=\"dataframe\">\n",
       "  <thead>\n",
       "    <tr style=\"text-align: right;\">\n",
       "      <th></th>\n",
       "      <th>nama</th>\n",
       "      <th>ulasan</th>\n",
       "      <th>label</th>\n",
       "    </tr>\n",
       "  </thead>\n",
       "  <tbody>\n",
       "    <tr>\n",
       "      <th>0</th>\n",
       "      <td>Ardison Samsung</td>\n",
       "      <td>percaya keren banget</td>\n",
       "      <td>1</td>\n",
       "    </tr>\n",
       "    <tr>\n",
       "      <th>1</th>\n",
       "      <td>samsudin elfani</td>\n",
       "      <td>aman emang bantu promo ongkir gratis kasih kasih</td>\n",
       "      <td>1</td>\n",
       "    </tr>\n",
       "    <tr>\n",
       "      <th>2</th>\n",
       "      <td>Dhika Rahmawati</td>\n",
       "      <td>akun transaksi ramai gabung unduh promo coba b...</td>\n",
       "      <td>1</td>\n",
       "    </tr>\n",
       "    <tr>\n",
       "      <th>3</th>\n",
       "      <td>Reza Fisabilillah</td>\n",
       "      <td>kemarin gambar buka buka gara gara sinyal down...</td>\n",
       "      <td>1</td>\n",
       "    </tr>\n",
       "    <tr>\n",
       "      <th>4</th>\n",
       "      <td>Haviza Yeni official</td>\n",
       "      <td>beli bayar tolong solusi</td>\n",
       "      <td>1</td>\n",
       "    </tr>\n",
       "  </tbody>\n",
       "</table>\n",
       "</div>"
      ],
      "text/plain": [
       "                   nama                                             ulasan  \\\n",
       "0       Ardison Samsung                               percaya keren banget   \n",
       "1       samsudin elfani   aman emang bantu promo ongkir gratis kasih kasih   \n",
       "2       Dhika Rahmawati  akun transaksi ramai gabung unduh promo coba b...   \n",
       "3     Reza Fisabilillah  kemarin gambar buka buka gara gara sinyal down...   \n",
       "4  Haviza Yeni official                           beli bayar tolong solusi   \n",
       "\n",
       "   label  \n",
       "0      1  \n",
       "1      1  \n",
       "2      1  \n",
       "3      1  \n",
       "4      1  "
      ]
     },
     "execution_count": 83,
     "metadata": {},
     "output_type": "execute_result"
    }
   ],
   "source": [
    "TokopediaPos = klasifikasiTokopedia.loc[klasifikasiTokopedia['label'] == 1]\n",
    "TokopediaPos.head()"
   ]
  },
  {
   "cell_type": "code",
   "execution_count": 84,
   "id": "f1c2da7c",
   "metadata": {},
   "outputs": [],
   "source": [
    "TokopediaPos.to_csv('hasil sentimen positif.csv')"
   ]
  },
  {
   "cell_type": "code",
   "execution_count": 85,
   "id": "4483b56d",
   "metadata": {},
   "outputs": [],
   "source": [
    "import difflib\n",
    "\n",
    "# body_list = df['body'].tolist()\n",
    "pos_text_list = TokopediaPos['ulasan'].tolist()\n",
    "\n",
    "# body = body_list\n",
    "reviews_pos = pos_text_list"
   ]
  },
  {
   "cell_type": "code",
   "execution_count": 86,
   "id": "2faf57ee",
   "metadata": {},
   "outputs": [
    {
     "name": "stdout",
     "output_type": "stream",
     "text": [
      "758\n"
     ]
    }
   ],
   "source": [
    "# stopword\n",
    "\n",
    "from nltk.corpus import stopwords\n",
    "indonesian_stopwords = stopwords.words('indonesian')\n",
    "print(len(indonesian_stopwords))\n",
    "text_pos = str(pos_text_list)"
   ]
  },
  {
   "cell_type": "code",
   "execution_count": 87,
   "id": "d2b20811",
   "metadata": {},
   "outputs": [],
   "source": [
    "# membuat potongan kata (token)\n",
    "\n",
    "from nltk.tokenize import word_tokenize\n",
    "tokens_pos = word_tokenize(text_pos)"
   ]
  },
  {
   "cell_type": "code",
   "execution_count": 88,
   "id": "0b208030",
   "metadata": {},
   "outputs": [],
   "source": [
    "# filter out stop word\n",
    "\n",
    "import nltk\n",
    "from nltk.corpus import stopwords\n",
    "\n",
    "stop_words = set(stopwords.words('indonesian'))\n",
    "positive = [w for w in tokens_pos if not w in stop_words]\n",
    "positive = [w for w in positive if not w in extend]\n",
    "\n",
    "# positive = [nltk.stem.PorterStemmer().stem(word) for word in positive]\n",
    "positive = [nltk.stem.WordNetLemmatizer().lemmatize(word) for word in positive]"
   ]
  },
  {
   "cell_type": "code",
   "execution_count": 89,
   "id": "3de851a6",
   "metadata": {},
   "outputs": [],
   "source": [
    "import string\n",
    "table = str.maketrans('', '', string.punctuation)\n",
    "strippedpos = [w.translate(table) for w in positive]"
   ]
  },
  {
   "cell_type": "code",
   "execution_count": 90,
   "id": "c63ab17a",
   "metadata": {},
   "outputs": [
    {
     "data": {
      "image/png": "[encoded data removed]",
      "text/plain": [
       "<Figure size 1800x504 with 1 Axes>"
      ]
     },
     "metadata": {
      "needs_background": "light"
     },
     "output_type": "display_data"
    }
   ],
   "source": [
    "# memplot kata-kata yang paling sering muncul\n",
    "\n",
    "freq_words(strippedpos, 15)"
   ]
  },
  {
   "cell_type": "code",
   "execution_count": 91,
   "id": "53019e3d",
   "metadata": {},
   "outputs": [
    {
     "data": {
      "image/png": "[encoded data removed]",
      "text/plain": [
       "<Figure size 1080x576 with 1 Axes>"
      ]
     },
     "metadata": {
      "needs_background": "light"
     },
     "output_type": "display_data"
    }
   ],
   "source": [
    "# wordcloud positif\n",
    "\n",
    "from wordcloud import WordCloud\n",
    "from wordcloud import ImageColorGenerator\n",
    "\n",
    "all_text_positive = ' '.join(str(word) for word in strippedpos)\n",
    "wordcloud = WordCloud(width = 700, height = 700, max_font_size=260, background_color='white', mode='RGBA').generate(all_text_positive)\n",
    "plt.figure(figsize=(15, 8))\n",
    "plt.imshow(wordcloud, interpolation='bilinear')\n",
    "plt.axis(\"off\")\n",
    "plt.margins(x=0, y=0)\n",
    "plt.show()"
   ]
  },
  {
   "cell_type": "code",
   "execution_count": 92,
   "id": "9cbf2e55",
   "metadata": {},
   "outputs": [
    {
     "data": {
      "image/png": "[encoded data removed]",
      "text/plain": [
       "<Figure size 720x432 with 1 Axes>"
      ]
     },
     "metadata": {},
     "output_type": "display_data"
    }
   ],
   "source": [
    "# pie chart\n",
    "\n",
    "label_sentiment = [\"Positive\", \"Negative\"]\n",
    "data_chart = res_df['label'].value_counts()\n",
    "data_chart\n",
    "\n",
    "pie, ax = plt.subplots(figsize=[10,6])\n",
    "labels = data_chart.keys()\n",
    "plt.pie(x=data_chart, autopct=\"%.1f%%\", explode=[0.02]*2, labels=label_sentiment, pctdistance=0.5)\n",
    "plt.title(\"Sentiment Analys Result\", fontsize=14);\n",
    "pie.savefig(\"PieChart.png\")"
   ]
  },
  {
   "cell_type": "code",
   "execution_count": null,
   "id": "39b898b4",
   "metadata": {},
   "outputs": [],
   "source": []
  }
 ],
 "metadata": {
  "kernelspec": {
   "display_name": "Python 3 (ipykernel)",
   "language": "python",
   "name": "python3"
  },
  "language_info": {
   "codemirror_mode": {
    "name": "ipython",
    "version": 3
   },
   "file_extension": ".py",
   "mimetype": "text/x-python",
   "name": "python",
   "nbconvert_exporter": "python",
   "pygments_lexer": "ipython3",
   "version": "3.8.10"
  }
 },
 "nbformat": 4,
 "nbformat_minor": 5
}
